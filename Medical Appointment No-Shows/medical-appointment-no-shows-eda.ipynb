{
 "cells": [
  {
   "cell_type": "markdown",
   "id": "4761724b",
   "metadata": {
    "papermill": {
     "duration": 0.014793,
     "end_time": "2023-02-04T14:49:29.700573",
     "exception": false,
     "start_time": "2023-02-04T14:49:29.685780",
     "status": "completed"
    },
    "tags": []
   },
   "source": [
    "\n",
    "# Project: Investigate a Dataset - [Medical Appointment No Shows]\n",
    "\n",
    "## Table of Contents\n",
    "<ul>\n",
    "<li><a href=\"#intro\">Introduction</a></li>\n",
    "<li><a href=\"#wrangling\">Data Wrangling</a></li>\n",
    "<li><a href=\"#eda\">Exploratory Data Analysis</a></li>\n",
    "<li><a href=\"#conclusions\">Conclusions</a></li>\n",
    "</ul>"
   ]
  },
  {
   "cell_type": "markdown",
   "id": "fc8a6332",
   "metadata": {
    "papermill": {
     "duration": 0.013627,
     "end_time": "2023-02-04T14:49:29.729868",
     "exception": false,
     "start_time": "2023-02-04T14:49:29.716241",
     "status": "completed"
    },
    "tags": []
   },
   "source": [
    "<a id='intro'></a>\n",
    "## Introduction\n",
    "\n",
    "### Dataset Description \n",
    "\n",
    "> This dataset collects information from 100k medical appointments in Brazil and is focused on the question of whether or not patients show up for their appointment. A number of characteristics about the patient are included in each row. \n",
    "  \n",
    "1- PatientId: indicates the id that identifies each patient.\n",
    "\n",
    "2- AppointmentID: indicates the id that identifies each appointment.\n",
    "\n",
    "3- Gender indicates: the patient's gender (Female 'F' or Male 'M').\n",
    "\n",
    "4- ScheduledDay: tells us on what day the patient set up their appointment.\n",
    "\n",
    "5- AppointmentDay: when will the appointment take place.\n",
    "\n",
    "6- Age: tells how old is the patient.\n",
    "\n",
    "7- Neighborhood: indicates the location of the hospital.\n",
    "\n",
    "8- Scholarship: indicates whether or not the patient is enrolled in Brasilian welfare program Bolsa Família.\n",
    "\n",
    "9- Hipertension: the patient has hipertension or not.\n",
    "\n",
    "10- Diabetes the: patient is with diabetes or not.\n",
    "\n",
    "11- Alcoholism: the patient consumes alcohol or not.\n",
    "\n",
    "12- Handcap: the patient is handicapped or not and the number of disabillities the have.\n",
    "\n",
    "13- SMS_received: the patient received a SMS or not.\n",
    "\n",
    "14- No-show: Be careful about the encoding of the last column: it says ‘No’ if the patient showed up to their appointment, and ‘Yes’ if they did not show up.\n",
    "\n",
    "\n",
    "### Question(s) for Analysis\n",
    "\n",
    ">Research Question 1 (Are there a lot of people no-show?)\n",
    "\n",
    ">Research Question 2 (The effect of waiting days in no-show?)\n",
    "\n",
    ">Research Question 3 ( Does Age affect the attendance?)\n",
    "\n",
    ">Research Question 4 ( Does Gender affect the No-show ratio?)\n",
    "\n",
    ">Research Question 6 (What is The effect of Diabetes in no-show?)\n",
    "\n",
    ">Research Question 7 (What is The effect of Alcoholism in no-show?)\n",
    "\n",
    ">Research Question 8 (What is The effect of Handicap in no-show?)\n",
    "\n",
    ">Research Question 9 (Is SMS Has A Remarkable Contribution In Attendance?)"
   ]
  },
  {
   "cell_type": "code",
   "execution_count": 1,
   "id": "cb057fd1",
   "metadata": {
    "execution": {
     "iopub.execute_input": "2023-02-04T14:49:29.760239Z",
     "iopub.status.busy": "2023-02-04T14:49:29.759570Z",
     "iopub.status.idle": "2023-02-04T14:49:29.778305Z",
     "shell.execute_reply": "2023-02-04T14:49:29.777529Z"
    },
    "papermill": {
     "duration": 0.037662,
     "end_time": "2023-02-04T14:49:29.781652",
     "exception": false,
     "start_time": "2023-02-04T14:49:29.743990",
     "status": "completed"
    },
    "tags": []
   },
   "outputs": [
    {
     "name": "stdout",
     "output_type": "stream",
     "text": [
      "/kaggle/input/noshowappointments/KaggleV2-May-2016.csv\n"
     ]
    }
   ],
   "source": [
    "# Use this cell to set up import statements for all of the packages that you\n",
    "import pandas as pd\n",
    "import matplotlib.pyplot as plt\n",
    "import numpy as np\n",
    "%matplotlib inline\n",
    "import os\n",
    "for dirname, _, filenames in os.walk('/kaggle/input'):\n",
    "    for filename in filenames:\n",
    "        print(os.path.join(dirname, filename))"
   ]
  },
  {
   "cell_type": "markdown",
   "id": "15cb1939",
   "metadata": {
    "papermill": {
     "duration": 0.013835,
     "end_time": "2023-02-04T14:49:29.810424",
     "exception": false,
     "start_time": "2023-02-04T14:49:29.796589",
     "status": "completed"
    },
    "tags": []
   },
   "source": [
    "<a id='wrangling'></a>\n",
    "# Data Wrangling\n"
   ]
  },
  {
   "cell_type": "code",
   "execution_count": 2,
   "id": "95811898",
   "metadata": {
    "execution": {
     "iopub.execute_input": "2023-02-04T14:49:29.840866Z",
     "iopub.status.busy": "2023-02-04T14:49:29.840156Z",
     "iopub.status.idle": "2023-02-04T14:49:30.177106Z",
     "shell.execute_reply": "2023-02-04T14:49:30.175643Z"
    },
    "papermill": {
     "duration": 0.355121,
     "end_time": "2023-02-04T14:49:30.179682",
     "exception": false,
     "start_time": "2023-02-04T14:49:29.824561",
     "status": "completed"
    },
    "tags": []
   },
   "outputs": [
    {
     "name": "stdout",
     "output_type": "stream",
     "text": [
      "(110527, 14)\n"
     ]
    },
    {
     "data": {
      "text/html": [
       "<div>\n",
       "<style scoped>\n",
       "    .dataframe tbody tr th:only-of-type {\n",
       "        vertical-align: middle;\n",
       "    }\n",
       "\n",
       "    .dataframe tbody tr th {\n",
       "        vertical-align: top;\n",
       "    }\n",
       "\n",
       "    .dataframe thead th {\n",
       "        text-align: right;\n",
       "    }\n",
       "</style>\n",
       "<table border=\"1\" class=\"dataframe\">\n",
       "  <thead>\n",
       "    <tr style=\"text-align: right;\">\n",
       "      <th></th>\n",
       "      <th>PatientId</th>\n",
       "      <th>AppointmentID</th>\n",
       "      <th>Gender</th>\n",
       "      <th>ScheduledDay</th>\n",
       "      <th>AppointmentDay</th>\n",
       "      <th>Age</th>\n",
       "      <th>Neighbourhood</th>\n",
       "      <th>Scholarship</th>\n",
       "      <th>Hipertension</th>\n",
       "      <th>Diabetes</th>\n",
       "      <th>Alcoholism</th>\n",
       "      <th>Handcap</th>\n",
       "      <th>SMS_received</th>\n",
       "      <th>No-show</th>\n",
       "    </tr>\n",
       "  </thead>\n",
       "  <tbody>\n",
       "    <tr>\n",
       "      <th>0</th>\n",
       "      <td>2.987250e+13</td>\n",
       "      <td>5642903</td>\n",
       "      <td>F</td>\n",
       "      <td>2016-04-29T18:38:08Z</td>\n",
       "      <td>2016-04-29T00:00:00Z</td>\n",
       "      <td>62</td>\n",
       "      <td>JARDIM DA PENHA</td>\n",
       "      <td>0</td>\n",
       "      <td>1</td>\n",
       "      <td>0</td>\n",
       "      <td>0</td>\n",
       "      <td>0</td>\n",
       "      <td>0</td>\n",
       "      <td>No</td>\n",
       "    </tr>\n",
       "    <tr>\n",
       "      <th>1</th>\n",
       "      <td>5.589978e+14</td>\n",
       "      <td>5642503</td>\n",
       "      <td>M</td>\n",
       "      <td>2016-04-29T16:08:27Z</td>\n",
       "      <td>2016-04-29T00:00:00Z</td>\n",
       "      <td>56</td>\n",
       "      <td>JARDIM DA PENHA</td>\n",
       "      <td>0</td>\n",
       "      <td>0</td>\n",
       "      <td>0</td>\n",
       "      <td>0</td>\n",
       "      <td>0</td>\n",
       "      <td>0</td>\n",
       "      <td>No</td>\n",
       "    </tr>\n",
       "    <tr>\n",
       "      <th>2</th>\n",
       "      <td>4.262962e+12</td>\n",
       "      <td>5642549</td>\n",
       "      <td>F</td>\n",
       "      <td>2016-04-29T16:19:04Z</td>\n",
       "      <td>2016-04-29T00:00:00Z</td>\n",
       "      <td>62</td>\n",
       "      <td>MATA DA PRAIA</td>\n",
       "      <td>0</td>\n",
       "      <td>0</td>\n",
       "      <td>0</td>\n",
       "      <td>0</td>\n",
       "      <td>0</td>\n",
       "      <td>0</td>\n",
       "      <td>No</td>\n",
       "    </tr>\n",
       "    <tr>\n",
       "      <th>3</th>\n",
       "      <td>8.679512e+11</td>\n",
       "      <td>5642828</td>\n",
       "      <td>F</td>\n",
       "      <td>2016-04-29T17:29:31Z</td>\n",
       "      <td>2016-04-29T00:00:00Z</td>\n",
       "      <td>8</td>\n",
       "      <td>PONTAL DE CAMBURI</td>\n",
       "      <td>0</td>\n",
       "      <td>0</td>\n",
       "      <td>0</td>\n",
       "      <td>0</td>\n",
       "      <td>0</td>\n",
       "      <td>0</td>\n",
       "      <td>No</td>\n",
       "    </tr>\n",
       "    <tr>\n",
       "      <th>4</th>\n",
       "      <td>8.841186e+12</td>\n",
       "      <td>5642494</td>\n",
       "      <td>F</td>\n",
       "      <td>2016-04-29T16:07:23Z</td>\n",
       "      <td>2016-04-29T00:00:00Z</td>\n",
       "      <td>56</td>\n",
       "      <td>JARDIM DA PENHA</td>\n",
       "      <td>0</td>\n",
       "      <td>1</td>\n",
       "      <td>1</td>\n",
       "      <td>0</td>\n",
       "      <td>0</td>\n",
       "      <td>0</td>\n",
       "      <td>No</td>\n",
       "    </tr>\n",
       "  </tbody>\n",
       "</table>\n",
       "</div>"
      ],
      "text/plain": [
       "      PatientId  AppointmentID Gender          ScheduledDay  \\\n",
       "0  2.987250e+13        5642903      F  2016-04-29T18:38:08Z   \n",
       "1  5.589978e+14        5642503      M  2016-04-29T16:08:27Z   \n",
       "2  4.262962e+12        5642549      F  2016-04-29T16:19:04Z   \n",
       "3  8.679512e+11        5642828      F  2016-04-29T17:29:31Z   \n",
       "4  8.841186e+12        5642494      F  2016-04-29T16:07:23Z   \n",
       "\n",
       "         AppointmentDay  Age      Neighbourhood  Scholarship  Hipertension  \\\n",
       "0  2016-04-29T00:00:00Z   62    JARDIM DA PENHA            0             1   \n",
       "1  2016-04-29T00:00:00Z   56    JARDIM DA PENHA            0             0   \n",
       "2  2016-04-29T00:00:00Z   62      MATA DA PRAIA            0             0   \n",
       "3  2016-04-29T00:00:00Z    8  PONTAL DE CAMBURI            0             0   \n",
       "4  2016-04-29T00:00:00Z   56    JARDIM DA PENHA            0             1   \n",
       "\n",
       "   Diabetes  Alcoholism  Handcap  SMS_received No-show  \n",
       "0         0           0        0             0      No  \n",
       "1         0           0        0             0      No  \n",
       "2         0           0        0             0      No  \n",
       "3         0           0        0             0      No  \n",
       "4         1           0        0             0      No  "
      ]
     },
     "execution_count": 2,
     "metadata": {},
     "output_type": "execute_result"
    }
   ],
   "source": [
    "# Load your data and print out a few lines. Perform operations to inspect data\n",
    "\n",
    "df = pd.read_csv(\"/kaggle/input/noshowappointments/KaggleV2-May-2016.csv\")\n",
    "print(df.shape)\n",
    "df.head()"
   ]
  },
  {
   "cell_type": "markdown",
   "id": "2602e401",
   "metadata": {
    "papermill": {
     "duration": 0.013991,
     "end_time": "2023-02-04T14:49:30.208019",
     "exception": false,
     "start_time": "2023-02-04T14:49:30.194028",
     "status": "completed"
    },
    "tags": []
   },
   "source": [
    "\n",
    "# Data Cleaning\n",
    "\n",
    "## We have to show data info to know what we need to correct in data"
   ]
  },
  {
   "cell_type": "code",
   "execution_count": 3,
   "id": "a6e5585b",
   "metadata": {
    "execution": {
     "iopub.execute_input": "2023-02-04T14:49:30.239184Z",
     "iopub.status.busy": "2023-02-04T14:49:30.237894Z",
     "iopub.status.idle": "2023-02-04T14:49:30.384755Z",
     "shell.execute_reply": "2023-02-04T14:49:30.383511Z"
    },
    "papermill": {
     "duration": 0.164882,
     "end_time": "2023-02-04T14:49:30.387283",
     "exception": false,
     "start_time": "2023-02-04T14:49:30.222401",
     "status": "completed"
    },
    "tags": []
   },
   "outputs": [
    {
     "name": "stdout",
     "output_type": "stream",
     "text": [
      "<class 'pandas.core.frame.DataFrame'>\n",
      "RangeIndex: 110527 entries, 0 to 110526\n",
      "Data columns (total 14 columns):\n",
      " #   Column          Non-Null Count   Dtype  \n",
      "---  ------          --------------   -----  \n",
      " 0   PatientId       110527 non-null  float64\n",
      " 1   AppointmentID   110527 non-null  int64  \n",
      " 2   Gender          110527 non-null  object \n",
      " 3   ScheduledDay    110527 non-null  object \n",
      " 4   AppointmentDay  110527 non-null  object \n",
      " 5   Age             110527 non-null  int64  \n",
      " 6   Neighbourhood   110527 non-null  object \n",
      " 7   Scholarship     110527 non-null  int64  \n",
      " 8   Hipertension    110527 non-null  int64  \n",
      " 9   Diabetes        110527 non-null  int64  \n",
      " 10  Alcoholism      110527 non-null  int64  \n",
      " 11  Handcap         110527 non-null  int64  \n",
      " 12  SMS_received    110527 non-null  int64  \n",
      " 13  No-show         110527 non-null  object \n",
      "dtypes: float64(1), int64(8), object(5)\n",
      "memory usage: 11.8+ MB\n",
      "None\n",
      "The number of Null Values : 0\n",
      "The number of duplicated Values : 0\n"
     ]
    }
   ],
   "source": [
    "print(df.info())  ## print data info\n",
    "print(\"The number of Null Values : \" + str(df.isnull().sum().sum())) ### number of Null Values\n",
    "print(\"The number of duplicated Values : \" + str(df.duplicated().sum())) ### number of duplicated Values"
   ]
  },
  {
   "cell_type": "markdown",
   "id": "8b776986",
   "metadata": {
    "papermill": {
     "duration": 0.014384,
     "end_time": "2023-02-04T14:49:30.416497",
     "exception": false,
     "start_time": "2023-02-04T14:49:30.402113",
     "status": "completed"
    },
    "tags": []
   },
   "source": [
    "#### From the data info we find that we don't have any null values in our dataset\n",
    "#### And we have no any duplicated Rows in our data"
   ]
  },
  {
   "cell_type": "markdown",
   "id": "558aaac5",
   "metadata": {
    "papermill": {
     "duration": 0.013834,
     "end_time": "2023-02-04T14:49:30.444589",
     "exception": false,
     "start_time": "2023-02-04T14:49:30.430755",
     "status": "completed"
    },
    "tags": []
   },
   "source": [
    "## From the Data info we found that we need \n",
    "#### 1- Data Type of ScheduledDay and AppointmentDay will be changed to DateTime.\n",
    "#### 2- As the AppointmentDay has 00:00:00 in it's TimeStamp, we will ignore it.\n",
    "#### 3- we dont need (PatientId, AppointmentID) so we will drop them\n",
    "#### 4- Add a new column -  Waiting days -  to help us in our analsys\n",
    "#### 5- Columns names should be correct to analsys the data easy \n",
    "#### 6- Make no-show column (0,1) insted of (yes,no) to be easy to work with"
   ]
  },
  {
   "cell_type": "markdown",
   "id": "28410694",
   "metadata": {
    "papermill": {
     "duration": 0.013968,
     "end_time": "2023-02-04T14:49:30.472974",
     "exception": false,
     "start_time": "2023-02-04T14:49:30.459006",
     "status": "completed"
    },
    "tags": []
   },
   "source": [
    "### have to check the duplicated and delete them"
   ]
  },
  {
   "cell_type": "markdown",
   "id": "e11566c0",
   "metadata": {
    "papermill": {
     "duration": 0.014061,
     "end_time": "2023-02-04T14:49:30.501338",
     "exception": false,
     "start_time": "2023-02-04T14:49:30.487277",
     "status": "completed"
    },
    "tags": []
   },
   "source": [
    "### We have two Coulmns for Dates (ScheduledDay,  AppointmentDay) but as shown They are in wrong format we have to change them to date formate"
   ]
  },
  {
   "cell_type": "code",
   "execution_count": 4,
   "id": "4618a71f",
   "metadata": {
    "execution": {
     "iopub.execute_input": "2023-02-04T14:49:30.532888Z",
     "iopub.status.busy": "2023-02-04T14:49:30.532264Z",
     "iopub.status.idle": "2023-02-04T14:49:30.691507Z",
     "shell.execute_reply": "2023-02-04T14:49:30.690206Z"
    },
    "papermill": {
     "duration": 0.177619,
     "end_time": "2023-02-04T14:49:30.693909",
     "exception": false,
     "start_time": "2023-02-04T14:49:30.516290",
     "status": "completed"
    },
    "tags": []
   },
   "outputs": [
    {
     "data": {
      "text/html": [
       "<div>\n",
       "<style scoped>\n",
       "    .dataframe tbody tr th:only-of-type {\n",
       "        vertical-align: middle;\n",
       "    }\n",
       "\n",
       "    .dataframe tbody tr th {\n",
       "        vertical-align: top;\n",
       "    }\n",
       "\n",
       "    .dataframe thead th {\n",
       "        text-align: right;\n",
       "    }\n",
       "</style>\n",
       "<table border=\"1\" class=\"dataframe\">\n",
       "  <thead>\n",
       "    <tr style=\"text-align: right;\">\n",
       "      <th></th>\n",
       "      <th>PatientId</th>\n",
       "      <th>AppointmentID</th>\n",
       "      <th>Gender</th>\n",
       "      <th>ScheduledDay</th>\n",
       "      <th>AppointmentDay</th>\n",
       "      <th>Age</th>\n",
       "      <th>Neighbourhood</th>\n",
       "      <th>Scholarship</th>\n",
       "      <th>Hipertension</th>\n",
       "      <th>Diabetes</th>\n",
       "      <th>Alcoholism</th>\n",
       "      <th>Handcap</th>\n",
       "      <th>SMS_received</th>\n",
       "      <th>No-show</th>\n",
       "    </tr>\n",
       "  </thead>\n",
       "  <tbody>\n",
       "    <tr>\n",
       "      <th>0</th>\n",
       "      <td>2.987250e+13</td>\n",
       "      <td>5642903</td>\n",
       "      <td>F</td>\n",
       "      <td>2016-04-29</td>\n",
       "      <td>2016-04-29</td>\n",
       "      <td>62</td>\n",
       "      <td>JARDIM DA PENHA</td>\n",
       "      <td>0</td>\n",
       "      <td>1</td>\n",
       "      <td>0</td>\n",
       "      <td>0</td>\n",
       "      <td>0</td>\n",
       "      <td>0</td>\n",
       "      <td>No</td>\n",
       "    </tr>\n",
       "    <tr>\n",
       "      <th>1</th>\n",
       "      <td>5.589978e+14</td>\n",
       "      <td>5642503</td>\n",
       "      <td>M</td>\n",
       "      <td>2016-04-29</td>\n",
       "      <td>2016-04-29</td>\n",
       "      <td>56</td>\n",
       "      <td>JARDIM DA PENHA</td>\n",
       "      <td>0</td>\n",
       "      <td>0</td>\n",
       "      <td>0</td>\n",
       "      <td>0</td>\n",
       "      <td>0</td>\n",
       "      <td>0</td>\n",
       "      <td>No</td>\n",
       "    </tr>\n",
       "    <tr>\n",
       "      <th>2</th>\n",
       "      <td>4.262962e+12</td>\n",
       "      <td>5642549</td>\n",
       "      <td>F</td>\n",
       "      <td>2016-04-29</td>\n",
       "      <td>2016-04-29</td>\n",
       "      <td>62</td>\n",
       "      <td>MATA DA PRAIA</td>\n",
       "      <td>0</td>\n",
       "      <td>0</td>\n",
       "      <td>0</td>\n",
       "      <td>0</td>\n",
       "      <td>0</td>\n",
       "      <td>0</td>\n",
       "      <td>No</td>\n",
       "    </tr>\n",
       "    <tr>\n",
       "      <th>3</th>\n",
       "      <td>8.679512e+11</td>\n",
       "      <td>5642828</td>\n",
       "      <td>F</td>\n",
       "      <td>2016-04-29</td>\n",
       "      <td>2016-04-29</td>\n",
       "      <td>8</td>\n",
       "      <td>PONTAL DE CAMBURI</td>\n",
       "      <td>0</td>\n",
       "      <td>0</td>\n",
       "      <td>0</td>\n",
       "      <td>0</td>\n",
       "      <td>0</td>\n",
       "      <td>0</td>\n",
       "      <td>No</td>\n",
       "    </tr>\n",
       "    <tr>\n",
       "      <th>4</th>\n",
       "      <td>8.841186e+12</td>\n",
       "      <td>5642494</td>\n",
       "      <td>F</td>\n",
       "      <td>2016-04-29</td>\n",
       "      <td>2016-04-29</td>\n",
       "      <td>56</td>\n",
       "      <td>JARDIM DA PENHA</td>\n",
       "      <td>0</td>\n",
       "      <td>1</td>\n",
       "      <td>1</td>\n",
       "      <td>0</td>\n",
       "      <td>0</td>\n",
       "      <td>0</td>\n",
       "      <td>No</td>\n",
       "    </tr>\n",
       "  </tbody>\n",
       "</table>\n",
       "</div>"
      ],
      "text/plain": [
       "      PatientId  AppointmentID Gender ScheduledDay AppointmentDay  Age  \\\n",
       "0  2.987250e+13        5642903      F   2016-04-29     2016-04-29   62   \n",
       "1  5.589978e+14        5642503      M   2016-04-29     2016-04-29   56   \n",
       "2  4.262962e+12        5642549      F   2016-04-29     2016-04-29   62   \n",
       "3  8.679512e+11        5642828      F   2016-04-29     2016-04-29    8   \n",
       "4  8.841186e+12        5642494      F   2016-04-29     2016-04-29   56   \n",
       "\n",
       "       Neighbourhood  Scholarship  Hipertension  Diabetes  Alcoholism  \\\n",
       "0    JARDIM DA PENHA            0             1         0           0   \n",
       "1    JARDIM DA PENHA            0             0         0           0   \n",
       "2      MATA DA PRAIA            0             0         0           0   \n",
       "3  PONTAL DE CAMBURI            0             0         0           0   \n",
       "4    JARDIM DA PENHA            0             1         1           0   \n",
       "\n",
       "   Handcap  SMS_received No-show  \n",
       "0        0             0      No  \n",
       "1        0             0      No  \n",
       "2        0             0      No  \n",
       "3        0             0      No  \n",
       "4        0             0      No  "
      ]
     },
     "execution_count": 4,
     "metadata": {},
     "output_type": "execute_result"
    }
   ],
   "source": [
    "# correct ScheduledDay, AppointmentDay datatype from string to right timedata\n",
    "df['ScheduledDay'] = pd.to_datetime(df[\"ScheduledDay\"]).dt.date.astype('datetime64[ns]')\n",
    "df['AppointmentDay'] = pd.to_datetime(df[\"AppointmentDay\"]).dt.date.astype('datetime64[ns]')\n",
    "df.head()"
   ]
  },
  {
   "cell_type": "markdown",
   "id": "6d1ed8aa",
   "metadata": {
    "papermill": {
     "duration": 0.014462,
     "end_time": "2023-02-04T14:49:30.723818",
     "exception": false,
     "start_time": "2023-02-04T14:49:30.709356",
     "status": "completed"
    },
    "tags": []
   },
   "source": [
    "#### we changed it correctly to DateTime form"
   ]
  },
  {
   "cell_type": "markdown",
   "id": "d218b939",
   "metadata": {
    "papermill": {
     "duration": 0.014513,
     "end_time": "2023-02-04T14:49:30.753739",
     "exception": false,
     "start_time": "2023-02-04T14:49:30.739226",
     "status": "completed"
    },
    "tags": []
   },
   "source": [
    "### In our analsys we don't need the coulmns (PatientId, AppointmentID) They we will not effect so i will delete them"
   ]
  },
  {
   "cell_type": "code",
   "execution_count": 5,
   "id": "d3b097de",
   "metadata": {
    "execution": {
     "iopub.execute_input": "2023-02-04T14:49:30.784649Z",
     "iopub.status.busy": "2023-02-04T14:49:30.784102Z",
     "iopub.status.idle": "2023-02-04T14:49:30.808704Z",
     "shell.execute_reply": "2023-02-04T14:49:30.807857Z"
    },
    "papermill": {
     "duration": 0.042467,
     "end_time": "2023-02-04T14:49:30.810549",
     "exception": false,
     "start_time": "2023-02-04T14:49:30.768082",
     "status": "completed"
    },
    "tags": []
   },
   "outputs": [
    {
     "data": {
      "text/html": [
       "<div>\n",
       "<style scoped>\n",
       "    .dataframe tbody tr th:only-of-type {\n",
       "        vertical-align: middle;\n",
       "    }\n",
       "\n",
       "    .dataframe tbody tr th {\n",
       "        vertical-align: top;\n",
       "    }\n",
       "\n",
       "    .dataframe thead th {\n",
       "        text-align: right;\n",
       "    }\n",
       "</style>\n",
       "<table border=\"1\" class=\"dataframe\">\n",
       "  <thead>\n",
       "    <tr style=\"text-align: right;\">\n",
       "      <th></th>\n",
       "      <th>Gender</th>\n",
       "      <th>ScheduledDay</th>\n",
       "      <th>AppointmentDay</th>\n",
       "      <th>Age</th>\n",
       "      <th>Neighbourhood</th>\n",
       "      <th>Scholarship</th>\n",
       "      <th>Hipertension</th>\n",
       "      <th>Diabetes</th>\n",
       "      <th>Alcoholism</th>\n",
       "      <th>Handcap</th>\n",
       "      <th>SMS_received</th>\n",
       "      <th>No-show</th>\n",
       "    </tr>\n",
       "  </thead>\n",
       "  <tbody>\n",
       "    <tr>\n",
       "      <th>0</th>\n",
       "      <td>F</td>\n",
       "      <td>2016-04-29</td>\n",
       "      <td>2016-04-29</td>\n",
       "      <td>62</td>\n",
       "      <td>JARDIM DA PENHA</td>\n",
       "      <td>0</td>\n",
       "      <td>1</td>\n",
       "      <td>0</td>\n",
       "      <td>0</td>\n",
       "      <td>0</td>\n",
       "      <td>0</td>\n",
       "      <td>No</td>\n",
       "    </tr>\n",
       "    <tr>\n",
       "      <th>1</th>\n",
       "      <td>M</td>\n",
       "      <td>2016-04-29</td>\n",
       "      <td>2016-04-29</td>\n",
       "      <td>56</td>\n",
       "      <td>JARDIM DA PENHA</td>\n",
       "      <td>0</td>\n",
       "      <td>0</td>\n",
       "      <td>0</td>\n",
       "      <td>0</td>\n",
       "      <td>0</td>\n",
       "      <td>0</td>\n",
       "      <td>No</td>\n",
       "    </tr>\n",
       "    <tr>\n",
       "      <th>2</th>\n",
       "      <td>F</td>\n",
       "      <td>2016-04-29</td>\n",
       "      <td>2016-04-29</td>\n",
       "      <td>62</td>\n",
       "      <td>MATA DA PRAIA</td>\n",
       "      <td>0</td>\n",
       "      <td>0</td>\n",
       "      <td>0</td>\n",
       "      <td>0</td>\n",
       "      <td>0</td>\n",
       "      <td>0</td>\n",
       "      <td>No</td>\n",
       "    </tr>\n",
       "    <tr>\n",
       "      <th>3</th>\n",
       "      <td>F</td>\n",
       "      <td>2016-04-29</td>\n",
       "      <td>2016-04-29</td>\n",
       "      <td>8</td>\n",
       "      <td>PONTAL DE CAMBURI</td>\n",
       "      <td>0</td>\n",
       "      <td>0</td>\n",
       "      <td>0</td>\n",
       "      <td>0</td>\n",
       "      <td>0</td>\n",
       "      <td>0</td>\n",
       "      <td>No</td>\n",
       "    </tr>\n",
       "    <tr>\n",
       "      <th>4</th>\n",
       "      <td>F</td>\n",
       "      <td>2016-04-29</td>\n",
       "      <td>2016-04-29</td>\n",
       "      <td>56</td>\n",
       "      <td>JARDIM DA PENHA</td>\n",
       "      <td>0</td>\n",
       "      <td>1</td>\n",
       "      <td>1</td>\n",
       "      <td>0</td>\n",
       "      <td>0</td>\n",
       "      <td>0</td>\n",
       "      <td>No</td>\n",
       "    </tr>\n",
       "  </tbody>\n",
       "</table>\n",
       "</div>"
      ],
      "text/plain": [
       "  Gender ScheduledDay AppointmentDay  Age      Neighbourhood  Scholarship  \\\n",
       "0      F   2016-04-29     2016-04-29   62    JARDIM DA PENHA            0   \n",
       "1      M   2016-04-29     2016-04-29   56    JARDIM DA PENHA            0   \n",
       "2      F   2016-04-29     2016-04-29   62      MATA DA PRAIA            0   \n",
       "3      F   2016-04-29     2016-04-29    8  PONTAL DE CAMBURI            0   \n",
       "4      F   2016-04-29     2016-04-29   56    JARDIM DA PENHA            0   \n",
       "\n",
       "   Hipertension  Diabetes  Alcoholism  Handcap  SMS_received No-show  \n",
       "0             1         0           0        0             0      No  \n",
       "1             0         0           0        0             0      No  \n",
       "2             0         0           0        0             0      No  \n",
       "3             0         0           0        0             0      No  \n",
       "4             1         1           0        0             0      No  "
      ]
     },
     "execution_count": 5,
     "metadata": {},
     "output_type": "execute_result"
    }
   ],
   "source": [
    "## we will asign the DateFram in another variable to dont lose them in the original data set.\n",
    "df2 = df.drop(['PatientId', 'AppointmentID'], axis=1)\n",
    "df2.head()"
   ]
  },
  {
   "cell_type": "markdown",
   "id": "3821307e",
   "metadata": {
    "papermill": {
     "duration": 0.014612,
     "end_time": "2023-02-04T14:49:30.840115",
     "exception": false,
     "start_time": "2023-02-04T14:49:30.825503",
     "status": "completed"
    },
    "tags": []
   },
   "source": [
    "### We can add coulmn ( Waiting day ) to help us in our analysis \n",
    "Waiting day = ScheduledDay - AppointmentDay"
   ]
  },
  {
   "cell_type": "code",
   "execution_count": 6,
   "id": "d698b645",
   "metadata": {
    "execution": {
     "iopub.execute_input": "2023-02-04T14:49:30.871596Z",
     "iopub.status.busy": "2023-02-04T14:49:30.871160Z",
     "iopub.status.idle": "2023-02-04T14:49:30.880514Z",
     "shell.execute_reply": "2023-02-04T14:49:30.879663Z"
    },
    "papermill": {
     "duration": 0.027882,
     "end_time": "2023-02-04T14:49:30.882810",
     "exception": false,
     "start_time": "2023-02-04T14:49:30.854928",
     "status": "completed"
    },
    "tags": []
   },
   "outputs": [],
   "source": [
    "###\n",
    "# Add new column Waiting day \n",
    "# Waiting day = ScheduledDay - AppointmentDay\n",
    "###\n",
    "calcp = (df[\"AppointmentDay\"] - df[\"ScheduledDay\"] ).dt.days.astype(int)\n",
    "df2.insert(loc = 3,column = 'WaitDays', value = calcp)"
   ]
  },
  {
   "cell_type": "markdown",
   "id": "92583929",
   "metadata": {
    "papermill": {
     "duration": 0.014904,
     "end_time": "2023-02-04T14:49:30.912941",
     "exception": false,
     "start_time": "2023-02-04T14:49:30.898037",
     "status": "completed"
    },
    "tags": []
   },
   "source": [
    "#### we added the new column right now we will replace the columns names"
   ]
  },
  {
   "cell_type": "code",
   "execution_count": 7,
   "id": "76d09346",
   "metadata": {
    "execution": {
     "iopub.execute_input": "2023-02-04T14:49:30.945175Z",
     "iopub.status.busy": "2023-02-04T14:49:30.944803Z",
     "iopub.status.idle": "2023-02-04T14:49:30.962063Z",
     "shell.execute_reply": "2023-02-04T14:49:30.961104Z"
    },
    "papermill": {
     "duration": 0.035751,
     "end_time": "2023-02-04T14:49:30.963881",
     "exception": false,
     "start_time": "2023-02-04T14:49:30.928130",
     "status": "completed"
    },
    "tags": []
   },
   "outputs": [
    {
     "data": {
      "text/html": [
       "<div>\n",
       "<style scoped>\n",
       "    .dataframe tbody tr th:only-of-type {\n",
       "        vertical-align: middle;\n",
       "    }\n",
       "\n",
       "    .dataframe tbody tr th {\n",
       "        vertical-align: top;\n",
       "    }\n",
       "\n",
       "    .dataframe thead th {\n",
       "        text-align: right;\n",
       "    }\n",
       "</style>\n",
       "<table border=\"1\" class=\"dataframe\">\n",
       "  <thead>\n",
       "    <tr style=\"text-align: right;\">\n",
       "      <th></th>\n",
       "      <th>Gender</th>\n",
       "      <th>Scheduled_Day</th>\n",
       "      <th>Appointment_Day</th>\n",
       "      <th>Wait_Days</th>\n",
       "      <th>Age</th>\n",
       "      <th>Neighbourhood</th>\n",
       "      <th>Scholarship</th>\n",
       "      <th>Hypertension</th>\n",
       "      <th>Diabetes</th>\n",
       "      <th>Alcoholism</th>\n",
       "      <th>Handicap</th>\n",
       "      <th>SMS_received</th>\n",
       "      <th>No-show</th>\n",
       "    </tr>\n",
       "  </thead>\n",
       "  <tbody>\n",
       "    <tr>\n",
       "      <th>0</th>\n",
       "      <td>F</td>\n",
       "      <td>2016-04-29</td>\n",
       "      <td>2016-04-29</td>\n",
       "      <td>0</td>\n",
       "      <td>62</td>\n",
       "      <td>JARDIM DA PENHA</td>\n",
       "      <td>0</td>\n",
       "      <td>1</td>\n",
       "      <td>0</td>\n",
       "      <td>0</td>\n",
       "      <td>0</td>\n",
       "      <td>0</td>\n",
       "      <td>No</td>\n",
       "    </tr>\n",
       "    <tr>\n",
       "      <th>1</th>\n",
       "      <td>M</td>\n",
       "      <td>2016-04-29</td>\n",
       "      <td>2016-04-29</td>\n",
       "      <td>0</td>\n",
       "      <td>56</td>\n",
       "      <td>JARDIM DA PENHA</td>\n",
       "      <td>0</td>\n",
       "      <td>0</td>\n",
       "      <td>0</td>\n",
       "      <td>0</td>\n",
       "      <td>0</td>\n",
       "      <td>0</td>\n",
       "      <td>No</td>\n",
       "    </tr>\n",
       "    <tr>\n",
       "      <th>2</th>\n",
       "      <td>F</td>\n",
       "      <td>2016-04-29</td>\n",
       "      <td>2016-04-29</td>\n",
       "      <td>0</td>\n",
       "      <td>62</td>\n",
       "      <td>MATA DA PRAIA</td>\n",
       "      <td>0</td>\n",
       "      <td>0</td>\n",
       "      <td>0</td>\n",
       "      <td>0</td>\n",
       "      <td>0</td>\n",
       "      <td>0</td>\n",
       "      <td>No</td>\n",
       "    </tr>\n",
       "    <tr>\n",
       "      <th>3</th>\n",
       "      <td>F</td>\n",
       "      <td>2016-04-29</td>\n",
       "      <td>2016-04-29</td>\n",
       "      <td>0</td>\n",
       "      <td>8</td>\n",
       "      <td>PONTAL DE CAMBURI</td>\n",
       "      <td>0</td>\n",
       "      <td>0</td>\n",
       "      <td>0</td>\n",
       "      <td>0</td>\n",
       "      <td>0</td>\n",
       "      <td>0</td>\n",
       "      <td>No</td>\n",
       "    </tr>\n",
       "    <tr>\n",
       "      <th>4</th>\n",
       "      <td>F</td>\n",
       "      <td>2016-04-29</td>\n",
       "      <td>2016-04-29</td>\n",
       "      <td>0</td>\n",
       "      <td>56</td>\n",
       "      <td>JARDIM DA PENHA</td>\n",
       "      <td>0</td>\n",
       "      <td>1</td>\n",
       "      <td>1</td>\n",
       "      <td>0</td>\n",
       "      <td>0</td>\n",
       "      <td>0</td>\n",
       "      <td>No</td>\n",
       "    </tr>\n",
       "  </tbody>\n",
       "</table>\n",
       "</div>"
      ],
      "text/plain": [
       "  Gender Scheduled_Day Appointment_Day  Wait_Days  Age      Neighbourhood  \\\n",
       "0      F    2016-04-29      2016-04-29          0   62    JARDIM DA PENHA   \n",
       "1      M    2016-04-29      2016-04-29          0   56    JARDIM DA PENHA   \n",
       "2      F    2016-04-29      2016-04-29          0   62      MATA DA PRAIA   \n",
       "3      F    2016-04-29      2016-04-29          0    8  PONTAL DE CAMBURI   \n",
       "4      F    2016-04-29      2016-04-29          0   56    JARDIM DA PENHA   \n",
       "\n",
       "   Scholarship  Hypertension  Diabetes  Alcoholism  Handicap  SMS_received  \\\n",
       "0            0             1         0           0         0             0   \n",
       "1            0             0         0           0         0             0   \n",
       "2            0             0         0           0         0             0   \n",
       "3            0             0         0           0         0             0   \n",
       "4            0             1         1           0         0             0   \n",
       "\n",
       "  No-show  \n",
       "0      No  \n",
       "1      No  \n",
       "2      No  \n",
       "3      No  \n",
       "4      No  "
      ]
     },
     "execution_count": 7,
     "metadata": {},
     "output_type": "execute_result"
    }
   ],
   "source": [
    "#rename columns to the right names\n",
    "df2.rename(columns={'WaitDays':'Wait_Days','Hipertension': 'Hypertension', 'Handcap': 'Handicap', 'AppointmentDay':'Appointment_Day', 'ScheduledDay':'Scheduled_Day' },\\\n",
    "          inplace=True)\n",
    "df2.head()"
   ]
  },
  {
   "cell_type": "markdown",
   "id": "f3ecfcc4",
   "metadata": {
    "papermill": {
     "duration": 0.014505,
     "end_time": "2023-02-04T14:49:30.993577",
     "exception": false,
     "start_time": "2023-02-04T14:49:30.979072",
     "status": "completed"
    },
    "tags": []
   },
   "source": [
    "### Now we check if all ages is logic or no ?"
   ]
  },
  {
   "cell_type": "code",
   "execution_count": 8,
   "id": "a8719730",
   "metadata": {
    "execution": {
     "iopub.execute_input": "2023-02-04T14:49:31.025775Z",
     "iopub.status.busy": "2023-02-04T14:49:31.025389Z",
     "iopub.status.idle": "2023-02-04T14:49:31.042882Z",
     "shell.execute_reply": "2023-02-04T14:49:31.041896Z"
    },
    "papermill": {
     "duration": 0.036363,
     "end_time": "2023-02-04T14:49:31.044751",
     "exception": false,
     "start_time": "2023-02-04T14:49:31.008388",
     "status": "completed"
    },
    "tags": []
   },
   "outputs": [
    {
     "data": {
      "text/html": [
       "<div>\n",
       "<style scoped>\n",
       "    .dataframe tbody tr th:only-of-type {\n",
       "        vertical-align: middle;\n",
       "    }\n",
       "\n",
       "    .dataframe tbody tr th {\n",
       "        vertical-align: top;\n",
       "    }\n",
       "\n",
       "    .dataframe thead th {\n",
       "        text-align: right;\n",
       "    }\n",
       "</style>\n",
       "<table border=\"1\" class=\"dataframe\">\n",
       "  <thead>\n",
       "    <tr style=\"text-align: right;\">\n",
       "      <th></th>\n",
       "      <th>PatientId</th>\n",
       "      <th>AppointmentID</th>\n",
       "      <th>Gender</th>\n",
       "      <th>ScheduledDay</th>\n",
       "      <th>AppointmentDay</th>\n",
       "      <th>Age</th>\n",
       "      <th>Neighbourhood</th>\n",
       "      <th>Scholarship</th>\n",
       "      <th>Hipertension</th>\n",
       "      <th>Diabetes</th>\n",
       "      <th>Alcoholism</th>\n",
       "      <th>Handcap</th>\n",
       "      <th>SMS_received</th>\n",
       "      <th>No-show</th>\n",
       "    </tr>\n",
       "  </thead>\n",
       "  <tbody>\n",
       "    <tr>\n",
       "      <th>99832</th>\n",
       "      <td>4.659432e+14</td>\n",
       "      <td>5775010</td>\n",
       "      <td>F</td>\n",
       "      <td>2016-06-06</td>\n",
       "      <td>2016-06-06</td>\n",
       "      <td>-1</td>\n",
       "      <td>ROMÃO</td>\n",
       "      <td>0</td>\n",
       "      <td>0</td>\n",
       "      <td>0</td>\n",
       "      <td>0</td>\n",
       "      <td>0</td>\n",
       "      <td>0</td>\n",
       "      <td>No</td>\n",
       "    </tr>\n",
       "  </tbody>\n",
       "</table>\n",
       "</div>"
      ],
      "text/plain": [
       "          PatientId  AppointmentID Gender ScheduledDay AppointmentDay  Age  \\\n",
       "99832  4.659432e+14        5775010      F   2016-06-06     2016-06-06   -1   \n",
       "\n",
       "      Neighbourhood  Scholarship  Hipertension  Diabetes  Alcoholism  Handcap  \\\n",
       "99832         ROMÃO            0             0         0           0        0   \n",
       "\n",
       "       SMS_received No-show  \n",
       "99832             0      No  "
      ]
     },
     "execution_count": 8,
     "metadata": {},
     "output_type": "execute_result"
    }
   ],
   "source": [
    "df[df[\"Age\"]<0] #find if there is a record with not logical age (<0)"
   ]
  },
  {
   "cell_type": "markdown",
   "id": "4f343843",
   "metadata": {
    "papermill": {
     "duration": 0.014916,
     "end_time": "2023-02-04T14:49:31.074978",
     "exception": false,
     "start_time": "2023-02-04T14:49:31.060062",
     "status": "completed"
    },
    "tags": []
   },
   "source": [
    "##### We found one record with -1 age which is not logical"
   ]
  },
  {
   "cell_type": "code",
   "execution_count": 9,
   "id": "a3b113d1",
   "metadata": {
    "execution": {
     "iopub.execute_input": "2023-02-04T14:49:31.106532Z",
     "iopub.status.busy": "2023-02-04T14:49:31.106152Z",
     "iopub.status.idle": "2023-02-04T14:49:31.126174Z",
     "shell.execute_reply": "2023-02-04T14:49:31.125186Z"
    },
    "papermill": {
     "duration": 0.038039,
     "end_time": "2023-02-04T14:49:31.128105",
     "exception": false,
     "start_time": "2023-02-04T14:49:31.090066",
     "status": "completed"
    },
    "tags": []
   },
   "outputs": [],
   "source": [
    "df2 = df2[df2[\"Age\"]>0] # neglect the unlogical ages"
   ]
  },
  {
   "cell_type": "markdown",
   "id": "27b228ee",
   "metadata": {
    "papermill": {
     "duration": 0.014503,
     "end_time": "2023-02-04T14:49:31.157490",
     "exception": false,
     "start_time": "2023-02-04T14:49:31.142987",
     "status": "completed"
    },
    "tags": []
   },
   "source": [
    "### Now we have to repace (Yes , No) values in the no-show column to (0,1) to be easy in work with"
   ]
  },
  {
   "cell_type": "code",
   "execution_count": 10,
   "id": "91753e0e",
   "metadata": {
    "execution": {
     "iopub.execute_input": "2023-02-04T14:49:31.190095Z",
     "iopub.status.busy": "2023-02-04T14:49:31.189741Z",
     "iopub.status.idle": "2023-02-04T14:49:31.225375Z",
     "shell.execute_reply": "2023-02-04T14:49:31.224291Z"
    },
    "papermill": {
     "duration": 0.055097,
     "end_time": "2023-02-04T14:49:31.227521",
     "exception": false,
     "start_time": "2023-02-04T14:49:31.172424",
     "status": "completed"
    },
    "tags": []
   },
   "outputs": [],
   "source": [
    "## rplace values in No-show column to be easy \n",
    "# Yes ----> 1\n",
    "# No -----> 0\n",
    "\n",
    "df2[\"No-show\"].replace({'Yes': 1, 'No': 0}, inplace = True) "
   ]
  },
  {
   "cell_type": "code",
   "execution_count": 11,
   "id": "34042782",
   "metadata": {
    "execution": {
     "iopub.execute_input": "2023-02-04T14:49:31.260116Z",
     "iopub.status.busy": "2023-02-04T14:49:31.259767Z",
     "iopub.status.idle": "2023-02-04T14:49:31.271871Z",
     "shell.execute_reply": "2023-02-04T14:49:31.271082Z"
    },
    "papermill": {
     "duration": 0.031042,
     "end_time": "2023-02-04T14:49:31.274074",
     "exception": false,
     "start_time": "2023-02-04T14:49:31.243032",
     "status": "completed"
    },
    "tags": []
   },
   "outputs": [
    {
     "data": {
      "text/html": [
       "<div>\n",
       "<style scoped>\n",
       "    .dataframe tbody tr th:only-of-type {\n",
       "        vertical-align: middle;\n",
       "    }\n",
       "\n",
       "    .dataframe tbody tr th {\n",
       "        vertical-align: top;\n",
       "    }\n",
       "\n",
       "    .dataframe thead th {\n",
       "        text-align: right;\n",
       "    }\n",
       "</style>\n",
       "<table border=\"1\" class=\"dataframe\">\n",
       "  <thead>\n",
       "    <tr style=\"text-align: right;\">\n",
       "      <th></th>\n",
       "      <th>Gender</th>\n",
       "      <th>Scheduled_Day</th>\n",
       "      <th>Appointment_Day</th>\n",
       "      <th>Wait_Days</th>\n",
       "      <th>Age</th>\n",
       "      <th>Neighbourhood</th>\n",
       "      <th>Scholarship</th>\n",
       "      <th>Hypertension</th>\n",
       "      <th>Diabetes</th>\n",
       "      <th>Alcoholism</th>\n",
       "      <th>Handicap</th>\n",
       "      <th>SMS_received</th>\n",
       "      <th>No-show</th>\n",
       "    </tr>\n",
       "  </thead>\n",
       "  <tbody>\n",
       "    <tr>\n",
       "      <th>0</th>\n",
       "      <td>F</td>\n",
       "      <td>2016-04-29</td>\n",
       "      <td>2016-04-29</td>\n",
       "      <td>0</td>\n",
       "      <td>62</td>\n",
       "      <td>JARDIM DA PENHA</td>\n",
       "      <td>0</td>\n",
       "      <td>1</td>\n",
       "      <td>0</td>\n",
       "      <td>0</td>\n",
       "      <td>0</td>\n",
       "      <td>0</td>\n",
       "      <td>0</td>\n",
       "    </tr>\n",
       "    <tr>\n",
       "      <th>1</th>\n",
       "      <td>M</td>\n",
       "      <td>2016-04-29</td>\n",
       "      <td>2016-04-29</td>\n",
       "      <td>0</td>\n",
       "      <td>56</td>\n",
       "      <td>JARDIM DA PENHA</td>\n",
       "      <td>0</td>\n",
       "      <td>0</td>\n",
       "      <td>0</td>\n",
       "      <td>0</td>\n",
       "      <td>0</td>\n",
       "      <td>0</td>\n",
       "      <td>0</td>\n",
       "    </tr>\n",
       "  </tbody>\n",
       "</table>\n",
       "</div>"
      ],
      "text/plain": [
       "  Gender Scheduled_Day Appointment_Day  Wait_Days  Age    Neighbourhood  \\\n",
       "0      F    2016-04-29      2016-04-29          0   62  JARDIM DA PENHA   \n",
       "1      M    2016-04-29      2016-04-29          0   56  JARDIM DA PENHA   \n",
       "\n",
       "   Scholarship  Hypertension  Diabetes  Alcoholism  Handicap  SMS_received  \\\n",
       "0            0             1         0           0         0             0   \n",
       "1            0             0         0           0         0             0   \n",
       "\n",
       "   No-show  \n",
       "0        0  \n",
       "1        0  "
      ]
     },
     "execution_count": 11,
     "metadata": {},
     "output_type": "execute_result"
    }
   ],
   "source": [
    "df2.head(2)"
   ]
  },
  {
   "cell_type": "code",
   "execution_count": 12,
   "id": "77f52547",
   "metadata": {
    "execution": {
     "iopub.execute_input": "2023-02-04T14:49:31.305878Z",
     "iopub.status.busy": "2023-02-04T14:49:31.305554Z",
     "iopub.status.idle": "2023-02-04T14:49:31.382880Z",
     "shell.execute_reply": "2023-02-04T14:49:31.381395Z"
    },
    "papermill": {
     "duration": 0.095827,
     "end_time": "2023-02-04T14:49:31.385070",
     "exception": false,
     "start_time": "2023-02-04T14:49:31.289243",
     "status": "completed"
    },
    "tags": []
   },
   "outputs": [
    {
     "data": {
      "text/plain": [
       "0"
      ]
     },
     "execution_count": 12,
     "metadata": {},
     "output_type": "execute_result"
    }
   ],
   "source": [
    "df2.drop_duplicates(inplace=True) ## clear duplicated\n",
    "df2.duplicated().sum()"
   ]
  },
  {
   "cell_type": "markdown",
   "id": "20a54818",
   "metadata": {
    "papermill": {
     "duration": 0.015236,
     "end_time": "2023-02-04T14:49:31.415901",
     "exception": false,
     "start_time": "2023-02-04T14:49:31.400665",
     "status": "completed"
    },
    "tags": []
   },
   "source": [
    "### Functions to help in plots"
   ]
  },
  {
   "cell_type": "code",
   "execution_count": 13,
   "id": "afbfe326",
   "metadata": {
    "execution": {
     "iopub.execute_input": "2023-02-04T14:49:31.449219Z",
     "iopub.status.busy": "2023-02-04T14:49:31.448858Z",
     "iopub.status.idle": "2023-02-04T14:49:31.455064Z",
     "shell.execute_reply": "2023-02-04T14:49:31.453685Z"
    },
    "papermill": {
     "duration": 0.0254,
     "end_time": "2023-02-04T14:49:31.457077",
     "exception": false,
     "start_time": "2023-02-04T14:49:31.431677",
     "status": "completed"
    },
    "tags": []
   },
   "outputs": [],
   "source": [
    "def my_pie(data,label,title,figsizepie=(5,5)):\n",
    "    ''' \n",
    "        Function to don't repeat pie plot and make it easy\n",
    "        data          ------> the data to plot                - data fram -\n",
    "        label         ------> the labels shown in pie chart   - list - \n",
    "        title         ------> the Title Of the pie cahrt      - string - \n",
    "        figsizepie    ------> the figer size with defult 5*5  - tuble -\n",
    "    '''\n",
    "    data.plot(kind=\"pie\",labels=label,figsize=figsizepie,autopct='%1.1f%%');\n",
    "    plt.title('The ration between Show or no-show When the waitinig days less than 1 week')"
   ]
  },
  {
   "cell_type": "markdown",
   "id": "4f8726f6",
   "metadata": {
    "papermill": {
     "duration": 0.014886,
     "end_time": "2023-02-04T14:49:31.487419",
     "exception": false,
     "start_time": "2023-02-04T14:49:31.472533",
     "status": "completed"
    },
    "tags": []
   },
   "source": [
    "<a id='eda'></a>\n",
    "## Exploratory Data Analysis\n",
    "\n"
   ]
  },
  {
   "cell_type": "markdown",
   "id": "b84a7387",
   "metadata": {
    "papermill": {
     "duration": 0.01642,
     "end_time": "2023-02-04T14:49:31.518889",
     "exception": false,
     "start_time": "2023-02-04T14:49:31.502469",
     "status": "completed"
    },
    "tags": []
   },
   "source": [
    "#### let's do some quick visuls to help us undrstand the data more"
   ]
  },
  {
   "cell_type": "code",
   "execution_count": 14,
   "id": "7598cb71",
   "metadata": {
    "execution": {
     "iopub.execute_input": "2023-02-04T14:49:31.551997Z",
     "iopub.status.busy": "2023-02-04T14:49:31.551655Z",
     "iopub.status.idle": "2023-02-04T14:49:32.777360Z",
     "shell.execute_reply": "2023-02-04T14:49:32.776018Z"
    },
    "papermill": {
     "duration": 1.244939,
     "end_time": "2023-02-04T14:49:32.779792",
     "exception": false,
     "start_time": "2023-02-04T14:49:31.534853",
     "status": "completed"
    },
    "tags": []
   },
   "outputs": [
    {
     "data": {
      "image/png": "[encoded data removed]",
      "text/plain": [
       "<Figure size 720x720 with 12 Axes>"
      ]
     },
     "metadata": {
      "needs_background": "light"
     },
     "output_type": "display_data"
    }
   ],
   "source": [
    "# drow Histogram for each coulmn\n",
    "df2.hist(figsize=(10,10));"
   ]
  },
  {
   "cell_type": "code",
   "execution_count": 15,
   "id": "aba39156",
   "metadata": {
    "execution": {
     "iopub.execute_input": "2023-02-04T14:49:32.814401Z",
     "iopub.status.busy": "2023-02-04T14:49:32.814044Z",
     "iopub.status.idle": "2023-02-04T14:49:32.910589Z",
     "shell.execute_reply": "2023-02-04T14:49:32.909624Z"
    },
    "papermill": {
     "duration": 0.116051,
     "end_time": "2023-02-04T14:49:32.912538",
     "exception": false,
     "start_time": "2023-02-04T14:49:32.796487",
     "status": "completed"
    },
    "tags": []
   },
   "outputs": [
    {
     "data": {
      "text/html": [
       "<style type=\"text/css\">\n",
       "#T_5e2bf_row0_col0, #T_5e2bf_row1_col1, #T_5e2bf_row2_col2, #T_5e2bf_row3_col3, #T_5e2bf_row4_col4, #T_5e2bf_row5_col5, #T_5e2bf_row6_col6, #T_5e2bf_row7_col7, #T_5e2bf_row8_col8 {\n",
       "  background-color: #023858;\n",
       "  color: #f1f1f1;\n",
       "}\n",
       "#T_5e2bf_row0_col1, #T_5e2bf_row8_col2 {\n",
       "  background-color: #ebe6f2;\n",
       "  color: #000000;\n",
       "}\n",
       "#T_5e2bf_row0_col2 {\n",
       "  background-color: #f4edf6;\n",
       "  color: #000000;\n",
       "}\n",
       "#T_5e2bf_row0_col3, #T_5e2bf_row2_col3, #T_5e2bf_row2_col6, #T_5e2bf_row6_col0, #T_5e2bf_row7_col5, #T_5e2bf_row8_col4, #T_5e2bf_row8_col6 {\n",
       "  background-color: #fdf5fa;\n",
       "  color: #000000;\n",
       "}\n",
       "#T_5e2bf_row0_col4, #T_5e2bf_row0_col5, #T_5e2bf_row1_col2, #T_5e2bf_row1_col8, #T_5e2bf_row2_col0, #T_5e2bf_row2_col1, #T_5e2bf_row2_col4, #T_5e2bf_row4_col0, #T_5e2bf_row4_col7, #T_5e2bf_row5_col0, #T_5e2bf_row6_col7, #T_5e2bf_row7_col6, #T_5e2bf_row8_col3 {\n",
       "  background-color: #fff7fb;\n",
       "  color: #000000;\n",
       "}\n",
       "#T_5e2bf_row0_col6, #T_5e2bf_row5_col7 {\n",
       "  background-color: #fef6fb;\n",
       "  color: #000000;\n",
       "}\n",
       "#T_5e2bf_row0_col7 {\n",
       "  background-color: #9ab8d8;\n",
       "  color: #000000;\n",
       "}\n",
       "#T_5e2bf_row0_col8 {\n",
       "  background-color: #d4d4e8;\n",
       "  color: #000000;\n",
       "}\n",
       "#T_5e2bf_row1_col0, #T_5e2bf_row6_col8 {\n",
       "  background-color: #f6eff7;\n",
       "  color: #000000;\n",
       "}\n",
       "#T_5e2bf_row1_col3 {\n",
       "  background-color: #67a4cc;\n",
       "  color: #f1f1f1;\n",
       "}\n",
       "#T_5e2bf_row1_col4 {\n",
       "  background-color: #bbc7e0;\n",
       "  color: #000000;\n",
       "}\n",
       "#T_5e2bf_row1_col5 {\n",
       "  background-color: #eee8f3;\n",
       "  color: #000000;\n",
       "}\n",
       "#T_5e2bf_row1_col6, #T_5e2bf_row3_col6, #T_5e2bf_row7_col1, #T_5e2bf_row7_col2 {\n",
       "  background-color: #f0eaf4;\n",
       "  color: #000000;\n",
       "}\n",
       "#T_5e2bf_row1_col7, #T_5e2bf_row2_col7 {\n",
       "  background-color: #fcf4fa;\n",
       "  color: #000000;\n",
       "}\n",
       "#T_5e2bf_row2_col5 {\n",
       "  background-color: #f5eff6;\n",
       "  color: #000000;\n",
       "}\n",
       "#T_5e2bf_row2_col8 {\n",
       "  background-color: #f1ebf5;\n",
       "  color: #000000;\n",
       "}\n",
       "#T_5e2bf_row3_col0, #T_5e2bf_row3_col7, #T_5e2bf_row7_col4 {\n",
       "  background-color: #fef6fa;\n",
       "  color: #000000;\n",
       "}\n",
       "#T_5e2bf_row3_col1 {\n",
       "  background-color: #569dc8;\n",
       "  color: #f1f1f1;\n",
       "}\n",
       "#T_5e2bf_row3_col2, #T_5e2bf_row4_col2 {\n",
       "  background-color: #f3edf5;\n",
       "  color: #000000;\n",
       "}\n",
       "#T_5e2bf_row3_col4 {\n",
       "  background-color: #89b1d4;\n",
       "  color: #000000;\n",
       "}\n",
       "#T_5e2bf_row3_col5 {\n",
       "  background-color: #eee9f3;\n",
       "  color: #000000;\n",
       "}\n",
       "#T_5e2bf_row3_col8, #T_5e2bf_row7_col3 {\n",
       "  background-color: #fbf4f9;\n",
       "  color: #000000;\n",
       "}\n",
       "#T_5e2bf_row4_col1 {\n",
       "  background-color: #a8bedc;\n",
       "  color: #000000;\n",
       "}\n",
       "#T_5e2bf_row4_col3 {\n",
       "  background-color: #86b0d3;\n",
       "  color: #000000;\n",
       "}\n",
       "#T_5e2bf_row4_col5, #T_5e2bf_row5_col4 {\n",
       "  background-color: #f7f0f7;\n",
       "  color: #000000;\n",
       "}\n",
       "#T_5e2bf_row4_col6, #T_5e2bf_row6_col4 {\n",
       "  background-color: #f2ecf5;\n",
       "  color: #000000;\n",
       "}\n",
       "#T_5e2bf_row4_col8 {\n",
       "  background-color: #f8f1f8;\n",
       "  color: #000000;\n",
       "}\n",
       "#T_5e2bf_row5_col1, #T_5e2bf_row7_col8 {\n",
       "  background-color: #e0dded;\n",
       "  color: #000000;\n",
       "}\n",
       "#T_5e2bf_row5_col2 {\n",
       "  background-color: #eae6f1;\n",
       "  color: #000000;\n",
       "}\n",
       "#T_5e2bf_row5_col3 {\n",
       "  background-color: #ede7f2;\n",
       "  color: #000000;\n",
       "}\n",
       "#T_5e2bf_row5_col6 {\n",
       "  background-color: #fbf3f9;\n",
       "  color: #000000;\n",
       "}\n",
       "#T_5e2bf_row5_col8 {\n",
       "  background-color: #f4eef6;\n",
       "  color: #000000;\n",
       "}\n",
       "#T_5e2bf_row6_col1 {\n",
       "  background-color: #e1dfed;\n",
       "  color: #000000;\n",
       "}\n",
       "#T_5e2bf_row6_col2 {\n",
       "  background-color: #f1ebf4;\n",
       "  color: #000000;\n",
       "}\n",
       "#T_5e2bf_row6_col3 {\n",
       "  background-color: #ede8f3;\n",
       "  color: #000000;\n",
       "}\n",
       "#T_5e2bf_row6_col5, #T_5e2bf_row8_col5 {\n",
       "  background-color: #faf2f8;\n",
       "  color: #000000;\n",
       "}\n",
       "#T_5e2bf_row7_col0 {\n",
       "  background-color: #99b8d8;\n",
       "  color: #000000;\n",
       "}\n",
       "#T_5e2bf_row8_col0 {\n",
       "  background-color: #dad9ea;\n",
       "  color: #000000;\n",
       "}\n",
       "#T_5e2bf_row8_col1 {\n",
       "  background-color: #f9f2f8;\n",
       "  color: #000000;\n",
       "}\n",
       "#T_5e2bf_row8_col7 {\n",
       "  background-color: #e8e4f0;\n",
       "  color: #000000;\n",
       "}\n",
       "</style>\n",
       "<table id=\"T_5e2bf_\">\n",
       "  <thead>\n",
       "    <tr>\n",
       "      <th class=\"blank level0\" >&nbsp;</th>\n",
       "      <th class=\"col_heading level0 col0\" >Wait_Days</th>\n",
       "      <th class=\"col_heading level0 col1\" >Age</th>\n",
       "      <th class=\"col_heading level0 col2\" >Scholarship</th>\n",
       "      <th class=\"col_heading level0 col3\" >Hypertension</th>\n",
       "      <th class=\"col_heading level0 col4\" >Diabetes</th>\n",
       "      <th class=\"col_heading level0 col5\" >Alcoholism</th>\n",
       "      <th class=\"col_heading level0 col6\" >Handicap</th>\n",
       "      <th class=\"col_heading level0 col7\" >SMS_received</th>\n",
       "      <th class=\"col_heading level0 col8\" >No-show</th>\n",
       "    </tr>\n",
       "  </thead>\n",
       "  <tbody>\n",
       "    <tr>\n",
       "      <th id=\"T_5e2bf_level0_row0\" class=\"row_heading level0 row0\" >Wait_Days</th>\n",
       "      <td id=\"T_5e2bf_row0_col0\" class=\"data row0 col0\" >1.000000</td>\n",
       "      <td id=\"T_5e2bf_row0_col1\" class=\"data row0 col1\" >0.027323</td>\n",
       "      <td id=\"T_5e2bf_row0_col2\" class=\"data row0 col2\" >-0.034219</td>\n",
       "      <td id=\"T_5e2bf_row0_col3\" class=\"data row0 col3\" >-0.025744</td>\n",
       "      <td id=\"T_5e2bf_row0_col4\" class=\"data row0 col4\" >-0.033200</td>\n",
       "      <td id=\"T_5e2bf_row0_col5\" class=\"data row0 col5\" >-0.034274</td>\n",
       "      <td id=\"T_5e2bf_row0_col6\" class=\"data row0 col6\" >-0.021578</td>\n",
       "      <td id=\"T_5e2bf_row0_col7\" class=\"data row0 col7\" >0.387558</td>\n",
       "      <td id=\"T_5e2bf_row0_col8\" class=\"data row0 col8\" >0.176915</td>\n",
       "    </tr>\n",
       "    <tr>\n",
       "      <th id=\"T_5e2bf_level0_row1\" class=\"row_heading level0 row1\" >Age</th>\n",
       "      <td id=\"T_5e2bf_row1_col0\" class=\"data row1 col0\" >0.027323</td>\n",
       "      <td id=\"T_5e2bf_row1_col1\" class=\"data row1 col1\" >1.000000</td>\n",
       "      <td id=\"T_5e2bf_row1_col2\" class=\"data row1 col2\" >-0.119420</td>\n",
       "      <td id=\"T_5e2bf_row1_col3\" class=\"data row1 col3\" >0.506115</td>\n",
       "      <td id=\"T_5e2bf_row1_col4\" class=\"data row1 col4\" >0.292616</td>\n",
       "      <td id=\"T_5e2bf_row1_col5\" class=\"data row1 col5\" >0.084500</td>\n",
       "      <td id=\"T_5e2bf_row1_col6\" class=\"data row1 col6\" >0.074833</td>\n",
       "      <td id=\"T_5e2bf_row1_col7\" class=\"data row1 col7\" >-0.005244</td>\n",
       "      <td id=\"T_5e2bf_row1_col8\" class=\"data row1 col8\" >-0.073930</td>\n",
       "    </tr>\n",
       "    <tr>\n",
       "      <th id=\"T_5e2bf_level0_row2\" class=\"row_heading level0 row2\" >Scholarship</th>\n",
       "      <td id=\"T_5e2bf_row2_col0\" class=\"data row2 col0\" >-0.034219</td>\n",
       "      <td id=\"T_5e2bf_row2_col1\" class=\"data row2 col1\" >-0.119420</td>\n",
       "      <td id=\"T_5e2bf_row2_col2\" class=\"data row2 col2\" >1.000000</td>\n",
       "      <td id=\"T_5e2bf_row2_col3\" class=\"data row2 col3\" >-0.031019</td>\n",
       "      <td id=\"T_5e2bf_row2_col4\" class=\"data row2 col4\" >-0.030054</td>\n",
       "      <td id=\"T_5e2bf_row2_col5\" class=\"data row2 col5\" >0.032027</td>\n",
       "      <td id=\"T_5e2bf_row2_col6\" class=\"data row2 col6\" >-0.010816</td>\n",
       "      <td id=\"T_5e2bf_row2_col7\" class=\"data row2 col7\" >-0.003278</td>\n",
       "      <td id=\"T_5e2bf_row2_col8\" class=\"data row2 col8\" >0.025481</td>\n",
       "    </tr>\n",
       "    <tr>\n",
       "      <th id=\"T_5e2bf_level0_row3\" class=\"row_heading level0 row3\" >Hypertension</th>\n",
       "      <td id=\"T_5e2bf_row3_col0\" class=\"data row3 col0\" >-0.025744</td>\n",
       "      <td id=\"T_5e2bf_row3_col1\" class=\"data row3 col1\" >0.506115</td>\n",
       "      <td id=\"T_5e2bf_row3_col2\" class=\"data row3 col2\" >-0.031019</td>\n",
       "      <td id=\"T_5e2bf_row3_col3\" class=\"data row3 col3\" >1.000000</td>\n",
       "      <td id=\"T_5e2bf_row3_col4\" class=\"data row3 col4\" >0.429826</td>\n",
       "      <td id=\"T_5e2bf_row3_col5\" class=\"data row3 col5\" >0.082309</td>\n",
       "      <td id=\"T_5e2bf_row3_col6\" class=\"data row3 col6\" >0.079020</td>\n",
       "      <td id=\"T_5e2bf_row3_col7\" class=\"data row3 col7\" >-0.018746</td>\n",
       "      <td id=\"T_5e2bf_row3_col8\" class=\"data row3 col8\" >-0.044859</td>\n",
       "    </tr>\n",
       "    <tr>\n",
       "      <th id=\"T_5e2bf_level0_row4\" class=\"row_heading level0 row4\" >Diabetes</th>\n",
       "      <td id=\"T_5e2bf_row4_col0\" class=\"data row4 col0\" >-0.033200</td>\n",
       "      <td id=\"T_5e2bf_row4_col1\" class=\"data row4 col1\" >0.292616</td>\n",
       "      <td id=\"T_5e2bf_row4_col2\" class=\"data row4 col2\" >-0.030054</td>\n",
       "      <td id=\"T_5e2bf_row4_col3\" class=\"data row4 col3\" >0.429826</td>\n",
       "      <td id=\"T_5e2bf_row4_col4\" class=\"data row4 col4\" >1.000000</td>\n",
       "      <td id=\"T_5e2bf_row4_col5\" class=\"data row4 col5\" >0.019444</td>\n",
       "      <td id=\"T_5e2bf_row4_col6\" class=\"data row4 col6\" >0.057475</td>\n",
       "      <td id=\"T_5e2bf_row4_col7\" class=\"data row4 col7\" >-0.022948</td>\n",
       "      <td id=\"T_5e2bf_row4_col8\" class=\"data row4 col8\" >-0.019672</td>\n",
       "    </tr>\n",
       "    <tr>\n",
       "      <th id=\"T_5e2bf_level0_row5\" class=\"row_heading level0 row5\" >Alcoholism</th>\n",
       "      <td id=\"T_5e2bf_row5_col0\" class=\"data row5 col0\" >-0.034274</td>\n",
       "      <td id=\"T_5e2bf_row5_col1\" class=\"data row5 col1\" >0.084500</td>\n",
       "      <td id=\"T_5e2bf_row5_col2\" class=\"data row5 col2\" >0.032027</td>\n",
       "      <td id=\"T_5e2bf_row5_col3\" class=\"data row5 col3\" >0.082309</td>\n",
       "      <td id=\"T_5e2bf_row5_col4\" class=\"data row5 col4\" >0.019444</td>\n",
       "      <td id=\"T_5e2bf_row5_col5\" class=\"data row5 col5\" >1.000000</td>\n",
       "      <td id=\"T_5e2bf_row5_col6\" class=\"data row5 col6\" >0.003391</td>\n",
       "      <td id=\"T_5e2bf_row5_col7\" class=\"data row5 col7\" >-0.021607</td>\n",
       "      <td id=\"T_5e2bf_row5_col8\" class=\"data row5 col8\" >0.004489</td>\n",
       "    </tr>\n",
       "    <tr>\n",
       "      <th id=\"T_5e2bf_level0_row6\" class=\"row_heading level0 row6\" >Handicap</th>\n",
       "      <td id=\"T_5e2bf_row6_col0\" class=\"data row6 col0\" >-0.021578</td>\n",
       "      <td id=\"T_5e2bf_row6_col1\" class=\"data row6 col1\" >0.074833</td>\n",
       "      <td id=\"T_5e2bf_row6_col2\" class=\"data row6 col2\" >-0.010816</td>\n",
       "      <td id=\"T_5e2bf_row6_col3\" class=\"data row6 col3\" >0.079020</td>\n",
       "      <td id=\"T_5e2bf_row6_col4\" class=\"data row6 col4\" >0.057475</td>\n",
       "      <td id=\"T_5e2bf_row6_col5\" class=\"data row6 col5\" >0.003391</td>\n",
       "      <td id=\"T_5e2bf_row6_col6\" class=\"data row6 col6\" >1.000000</td>\n",
       "      <td id=\"T_5e2bf_row6_col7\" class=\"data row6 col7\" >-0.026863</td>\n",
       "      <td id=\"T_5e2bf_row6_col8\" class=\"data row6 col8\" >-0.010899</td>\n",
       "    </tr>\n",
       "    <tr>\n",
       "      <th id=\"T_5e2bf_level0_row7\" class=\"row_heading level0 row7\" >SMS_received</th>\n",
       "      <td id=\"T_5e2bf_row7_col0\" class=\"data row7 col0\" >0.387558</td>\n",
       "      <td id=\"T_5e2bf_row7_col1\" class=\"data row7 col1\" >-0.005244</td>\n",
       "      <td id=\"T_5e2bf_row7_col2\" class=\"data row7 col2\" >-0.003278</td>\n",
       "      <td id=\"T_5e2bf_row7_col3\" class=\"data row7 col3\" >-0.018746</td>\n",
       "      <td id=\"T_5e2bf_row7_col4\" class=\"data row7 col4\" >-0.022948</td>\n",
       "      <td id=\"T_5e2bf_row7_col5\" class=\"data row7 col5\" >-0.021607</td>\n",
       "      <td id=\"T_5e2bf_row7_col6\" class=\"data row7 col6\" >-0.026863</td>\n",
       "      <td id=\"T_5e2bf_row7_col7\" class=\"data row7 col7\" >1.000000</td>\n",
       "      <td id=\"T_5e2bf_row7_col8\" class=\"data row7 col8\" >0.120477</td>\n",
       "    </tr>\n",
       "    <tr>\n",
       "      <th id=\"T_5e2bf_level0_row8\" class=\"row_heading level0 row8\" >No-show</th>\n",
       "      <td id=\"T_5e2bf_row8_col0\" class=\"data row8 col0\" >0.176915</td>\n",
       "      <td id=\"T_5e2bf_row8_col1\" class=\"data row8 col1\" >-0.073930</td>\n",
       "      <td id=\"T_5e2bf_row8_col2\" class=\"data row8 col2\" >0.025481</td>\n",
       "      <td id=\"T_5e2bf_row8_col3\" class=\"data row8 col3\" >-0.044859</td>\n",
       "      <td id=\"T_5e2bf_row8_col4\" class=\"data row8 col4\" >-0.019672</td>\n",
       "      <td id=\"T_5e2bf_row8_col5\" class=\"data row8 col5\" >0.004489</td>\n",
       "      <td id=\"T_5e2bf_row8_col6\" class=\"data row8 col6\" >-0.010899</td>\n",
       "      <td id=\"T_5e2bf_row8_col7\" class=\"data row8 col7\" >0.120477</td>\n",
       "      <td id=\"T_5e2bf_row8_col8\" class=\"data row8 col8\" >1.000000</td>\n",
       "    </tr>\n",
       "  </tbody>\n",
       "</table>\n"
      ],
      "text/plain": [
       "<pandas.io.formats.style.Styler at 0x7f0ff9575c90>"
      ]
     },
     "execution_count": 15,
     "metadata": {},
     "output_type": "execute_result"
    }
   ],
   "source": [
    "#drow heat map to see the correlations bettwen the columns well\n",
    "df2.corr().style.background_gradient()"
   ]
  },
  {
   "cell_type": "markdown",
   "id": "9adcd8be",
   "metadata": {
    "papermill": {
     "duration": 0.015699,
     "end_time": "2023-02-04T14:49:32.944560",
     "exception": false,
     "start_time": "2023-02-04T14:49:32.928861",
     "status": "completed"
    },
    "tags": []
   },
   "source": [
    "##### As we see from the Heatmap There is not alot of corelations bettwen columns with No-show  as shown "
   ]
  },
  {
   "cell_type": "markdown",
   "id": "a7721303",
   "metadata": {
    "papermill": {
     "duration": 0.015657,
     "end_time": "2023-02-04T14:49:32.976436",
     "exception": false,
     "start_time": "2023-02-04T14:49:32.960779",
     "status": "completed"
    },
    "tags": []
   },
   "source": [
    "\n",
    "## Research Question 1 (Are there a lot of people no-show)\n",
    "#### In no-show column we have only two values (yes, no)"
   ]
  },
  {
   "cell_type": "code",
   "execution_count": 16,
   "id": "36e87fd5",
   "metadata": {
    "execution": {
     "iopub.execute_input": "2023-02-04T14:49:33.009931Z",
     "iopub.status.busy": "2023-02-04T14:49:33.009562Z",
     "iopub.status.idle": "2023-02-04T14:49:33.018591Z",
     "shell.execute_reply": "2023-02-04T14:49:33.017747Z"
    },
    "papermill": {
     "duration": 0.028291,
     "end_time": "2023-02-04T14:49:33.020523",
     "exception": false,
     "start_time": "2023-02-04T14:49:32.992232",
     "status": "completed"
    },
    "tags": []
   },
   "outputs": [
    {
     "data": {
      "text/plain": [
       "0    78560\n",
       "1    20921\n",
       "Name: No-show, dtype: int64"
      ]
     },
     "execution_count": 16,
     "metadata": {},
     "output_type": "execute_result"
    }
   ],
   "source": [
    "df2['No-show'].value_counts() ## this code to see the number of yes and no in the no-show column"
   ]
  },
  {
   "cell_type": "code",
   "execution_count": 17,
   "id": "b18fe54e",
   "metadata": {
    "execution": {
     "iopub.execute_input": "2023-02-04T14:49:33.056538Z",
     "iopub.status.busy": "2023-02-04T14:49:33.055950Z",
     "iopub.status.idle": "2023-02-04T14:49:33.158915Z",
     "shell.execute_reply": "2023-02-04T14:49:33.158193Z"
    },
    "papermill": {
     "duration": 0.122687,
     "end_time": "2023-02-04T14:49:33.160822",
     "exception": false,
     "start_time": "2023-02-04T14:49:33.038135",
     "status": "completed"
    },
    "tags": []
   },
   "outputs": [
    {
     "data": {
      "image/png": "[encoded data removed]",
      "text/plain": [
       "<Figure size 288x288 with 1 Axes>"
      ]
     },
     "metadata": {
      "needs_background": "light"
     },
     "output_type": "display_data"
    }
   ],
   "source": [
    "my_plot = df2['No-show'].value_counts().plot(kind='bar',title=\"Number of No-show\",figsize=(4, 4))\n",
    "plt.xlabel(\"The Number of Show or no-show\")\n",
    "plt.title(\"The ratio between show and no-show\")\n",
    "plt.show()"
   ]
  },
  {
   "cell_type": "markdown",
   "id": "8eb55829",
   "metadata": {
    "papermill": {
     "duration": 0.020535,
     "end_time": "2023-02-04T14:49:33.203854",
     "exception": false,
     "start_time": "2023-02-04T14:49:33.183319",
     "status": "completed"
    },
    "tags": []
   },
   "source": [
    "##### As we see the number of  NO = 88208, And the number of Yes =  22319\n",
    "##### The plot show us that every 5 appointment there is 1 no-show so that is not okay"
   ]
  },
  {
   "cell_type": "markdown",
   "id": "4e0f2b66",
   "metadata": {
    "papermill": {
     "duration": 0.016416,
     "end_time": "2023-02-04T14:49:33.236909",
     "exception": false,
     "start_time": "2023-02-04T14:49:33.220493",
     "status": "completed"
    },
    "tags": []
   },
   "source": [
    "### Research Question 2  (The effect of waiting days in no-show)"
   ]
  },
  {
   "cell_type": "code",
   "execution_count": 18,
   "id": "e4c63e47",
   "metadata": {
    "execution": {
     "iopub.execute_input": "2023-02-04T14:49:33.272277Z",
     "iopub.status.busy": "2023-02-04T14:49:33.271089Z",
     "iopub.status.idle": "2023-02-04T14:49:33.278690Z",
     "shell.execute_reply": "2023-02-04T14:49:33.278055Z"
    },
    "papermill": {
     "duration": 0.02711,
     "end_time": "2023-02-04T14:49:33.280495",
     "exception": false,
     "start_time": "2023-02-04T14:49:33.253385",
     "status": "completed"
    },
    "tags": []
   },
   "outputs": [
    {
     "data": {
      "text/plain": [
       "131"
      ]
     },
     "execution_count": 18,
     "metadata": {},
     "output_type": "execute_result"
    }
   ],
   "source": [
    "df2['Wait_Days'].value_counts().count()"
   ]
  },
  {
   "cell_type": "markdown",
   "id": "8b9ad01b",
   "metadata": {
    "papermill": {
     "duration": 0.016595,
     "end_time": "2023-02-04T14:49:33.314343",
     "exception": false,
     "start_time": "2023-02-04T14:49:33.297748",
     "status": "completed"
    },
    "tags": []
   },
   "source": [
    "##### AS we see we have a lot different values in Waiting Days so to plot them we should to divide them less than week its okey more than week its alot\n"
   ]
  },
  {
   "cell_type": "code",
   "execution_count": 19,
   "id": "e8d6202b",
   "metadata": {
    "execution": {
     "iopub.execute_input": "2023-02-04T14:49:33.350888Z",
     "iopub.status.busy": "2023-02-04T14:49:33.349587Z",
     "iopub.status.idle": "2023-02-04T14:49:33.361538Z",
     "shell.execute_reply": "2023-02-04T14:49:33.359688Z"
    },
    "papermill": {
     "duration": 0.032817,
     "end_time": "2023-02-04T14:49:33.364173",
     "exception": false,
     "start_time": "2023-02-04T14:49:33.331356",
     "status": "completed"
    },
    "tags": []
   },
   "outputs": [
    {
     "name": "stdout",
     "output_type": "stream",
     "text": [
      "(62241, 13)\n"
     ]
    }
   ],
   "source": [
    "less_than_week = df2[df2['Wait_Days'] < 8]\n",
    "print(less_than_week.shape)"
   ]
  },
  {
   "cell_type": "code",
   "execution_count": 20,
   "id": "c39f4132",
   "metadata": {
    "execution": {
     "iopub.execute_input": "2023-02-04T14:49:33.400090Z",
     "iopub.status.busy": "2023-02-04T14:49:33.399696Z",
     "iopub.status.idle": "2023-02-04T14:49:33.505812Z",
     "shell.execute_reply": "2023-02-04T14:49:33.504654Z"
    },
    "papermill": {
     "duration": 0.12674,
     "end_time": "2023-02-04T14:49:33.507972",
     "exception": false,
     "start_time": "2023-02-04T14:49:33.381232",
     "status": "completed"
    },
    "tags": []
   },
   "outputs": [
    {
     "data": {
      "image/png": "[encoded data removed]",
      "text/plain": [
       "<Figure size 360x360 with 1 Axes>"
      ]
     },
     "metadata": {},
     "output_type": "display_data"
    }
   ],
   "source": [
    "data = less_than_week['No-show'].value_counts()\n",
    "title = 'The ration between Show or no-show When the waitinig days less than 1 week'\n",
    "my_pie(data,['Show','No-show'], title)\n"
   ]
  },
  {
   "cell_type": "code",
   "execution_count": 21,
   "id": "ea93ed8c",
   "metadata": {
    "execution": {
     "iopub.execute_input": "2023-02-04T14:49:33.554776Z",
     "iopub.status.busy": "2023-02-04T14:49:33.554131Z",
     "iopub.status.idle": "2023-02-04T14:49:33.664502Z",
     "shell.execute_reply": "2023-02-04T14:49:33.663599Z"
    },
    "papermill": {
     "duration": 0.136257,
     "end_time": "2023-02-04T14:49:33.666846",
     "exception": false,
     "start_time": "2023-02-04T14:49:33.530589",
     "status": "completed"
    },
    "tags": []
   },
   "outputs": [
    {
     "data": {
      "image/png": "[encoded data removed]",
      "text/plain": [
       "<Figure size 360x360 with 1 Axes>"
      ]
     },
     "metadata": {},
     "output_type": "display_data"
    }
   ],
   "source": [
    "### use my_pie function\n",
    "less_than_week = df2[df2['Wait_Days'] >= 8]\n",
    "data = less_than_week['No-show'].value_counts()\n",
    "title = 'The ration between Show or no-show When the waitinig days More than 1 week'\n",
    "my_pie(data,['Show','No-show'], title)"
   ]
  },
  {
   "cell_type": "markdown",
   "id": "c43b42a1",
   "metadata": {
    "papermill": {
     "duration": 0.023633,
     "end_time": "2023-02-04T14:49:33.714098",
     "exception": false,
     "start_time": "2023-02-04T14:49:33.690465",
     "status": "completed"
    },
    "tags": []
   },
   "source": [
    "#### as we see when the waiting days is 1 week or less we have no-show  (13.5%) but when the waiting days more than 1 wekk the no-show is 32%\n",
    "#### So it is clear that the greater the number of waiting days, the greater the number of No-Show"
   ]
  },
  {
   "cell_type": "markdown",
   "id": "32212174",
   "metadata": {
    "papermill": {
     "duration": 0.017148,
     "end_time": "2023-02-04T14:49:33.754056",
     "exception": false,
     "start_time": "2023-02-04T14:49:33.736908",
     "status": "completed"
    },
    "tags": []
   },
   "source": [
    "### Research Question 3 ( Does Age affect the attendance?)\n",
    "\n",
    "#### To analyis the relation between the age and the no-show we have to calssificate the ages to 4 groups (children, youth,adults ,seniors)"
   ]
  },
  {
   "cell_type": "code",
   "execution_count": 22,
   "id": "6e23e899",
   "metadata": {
    "execution": {
     "iopub.execute_input": "2023-02-04T14:49:33.791472Z",
     "iopub.status.busy": "2023-02-04T14:49:33.790921Z",
     "iopub.status.idle": "2023-02-04T14:49:33.815038Z",
     "shell.execute_reply": "2023-02-04T14:49:33.813441Z"
    },
    "papermill": {
     "duration": 0.045627,
     "end_time": "2023-02-04T14:49:33.817686",
     "exception": false,
     "start_time": "2023-02-04T14:49:33.772059",
     "status": "completed"
    },
    "tags": []
   },
   "outputs": [
    {
     "name": "stdout",
     "output_type": "stream",
     "text": [
      "0.24560681751395827\n",
      "0.25932717398970306\n",
      "0.20488740289113974\n",
      "0.1544823198854901\n"
     ]
    }
   ],
   "source": [
    "infants = df2.query('Age < 3')\n",
    "child = df2[(df2['Age'] < 18) & (df2['Age'] > 3)]\n",
    "youth = df2[(df2['Age'] < 30) & (df2['Age'] > 18)]\n",
    "adults = df2[(df2['Age'] < 60) & (df2['Age'] > 30)]\n",
    "seniors = df2[df2['Age'] >60]\n",
    "print(child['No-show'].mean())\n",
    "print(youth['No-show'].mean())\n",
    "print(adults['No-show'].mean())\n",
    "print(seniors['No-show'].mean())\n"
   ]
  },
  {
   "cell_type": "code",
   "execution_count": 23,
   "id": "65234a5f",
   "metadata": {
    "execution": {
     "iopub.execute_input": "2023-02-04T14:49:33.855520Z",
     "iopub.status.busy": "2023-02-04T14:49:33.854401Z",
     "iopub.status.idle": "2023-02-04T14:49:33.999268Z",
     "shell.execute_reply": "2023-02-04T14:49:33.998492Z"
    },
    "papermill": {
     "duration": 0.165608,
     "end_time": "2023-02-04T14:49:34.001258",
     "exception": false,
     "start_time": "2023-02-04T14:49:33.835650",
     "status": "completed"
    },
    "tags": []
   },
   "outputs": [
    {
     "data": {
      "image/png": "[encoded data removed]",
      "text/plain": [
       "<Figure size 432x288 with 1 Axes>"
      ]
     },
     "metadata": {
      "needs_background": "light"
     },
     "output_type": "display_data"
    }
   ],
   "source": [
    "values = [infants['No-show'].mean(), child['No-show'].mean(),youth['No-show'].mean(), adults['No-show'].mean(), seniors['No-show'].mean()]\n",
    "x = [1,2,3,4,5]\n",
    "labels = ['infants' ,'Child','youth','Adults','Seniors']\n",
    "\n",
    "plt.bar(x, values, tick_label = labels)\n",
    "plt.title('Average \"No-show\" Vs Age Categories')\n",
    "plt.ylim([0,0.3]) #to focus on this spot to feel the change\n",
    "plt.xlabel('Age Category')\n",
    "plt.ylabel('Average \"No-show\"')\n",
    "plt.show()"
   ]
  },
  {
   "cell_type": "markdown",
   "id": "ad6e98a6",
   "metadata": {
    "papermill": {
     "duration": 0.018075,
     "end_time": "2023-02-04T14:49:34.037851",
     "exception": false,
     "start_time": "2023-02-04T14:49:34.019776",
     "status": "completed"
    },
    "tags": []
   },
   "source": [
    "#### As shown older patients are more committed to their appointments' scheduled than younger ones.\n",
    "#### And youths have most no-show average"
   ]
  },
  {
   "cell_type": "markdown",
   "id": "8a217b3c",
   "metadata": {
    "papermill": {
     "duration": 0.018136,
     "end_time": "2023-02-04T14:49:34.074184",
     "exception": false,
     "start_time": "2023-02-04T14:49:34.056048",
     "status": "completed"
    },
    "tags": []
   },
   "source": [
    "## Research Question 4 ( Does Gender affect the No-show ratio?)"
   ]
  },
  {
   "cell_type": "code",
   "execution_count": 24,
   "id": "29b8306f",
   "metadata": {
    "execution": {
     "iopub.execute_input": "2023-02-04T14:49:34.112160Z",
     "iopub.status.busy": "2023-02-04T14:49:34.111498Z",
     "iopub.status.idle": "2023-02-04T14:49:34.128978Z",
     "shell.execute_reply": "2023-02-04T14:49:34.128071Z"
    },
    "papermill": {
     "duration": 0.038631,
     "end_time": "2023-02-04T14:49:34.130928",
     "exception": false,
     "start_time": "2023-02-04T14:49:34.092297",
     "status": "completed"
    },
    "tags": []
   },
   "outputs": [
    {
     "data": {
      "text/plain": [
       "Gender\n",
       "F    0.211402\n",
       "M    0.208174\n",
       "Name: No-show, dtype: float64"
      ]
     },
     "execution_count": 24,
     "metadata": {},
     "output_type": "execute_result"
    }
   ],
   "source": [
    "df2.groupby(['Gender'])['No-show'].mean()"
   ]
  },
  {
   "cell_type": "code",
   "execution_count": 25,
   "id": "923e110b",
   "metadata": {
    "execution": {
     "iopub.execute_input": "2023-02-04T14:49:34.169301Z",
     "iopub.status.busy": "2023-02-04T14:49:34.168591Z",
     "iopub.status.idle": "2023-02-04T14:49:34.325562Z",
     "shell.execute_reply": "2023-02-04T14:49:34.324685Z"
    },
    "papermill": {
     "duration": 0.178246,
     "end_time": "2023-02-04T14:49:34.327792",
     "exception": false,
     "start_time": "2023-02-04T14:49:34.149546",
     "status": "completed"
    },
    "tags": []
   },
   "outputs": [
    {
     "data": {
      "text/plain": [
       "Text(0, 0.5, 'count of patients')"
      ]
     },
     "execution_count": 25,
     "metadata": {},
     "output_type": "execute_result"
    },
    {
     "data": {
      "image/png": "[encoded data removed]",
      "text/plain": [
       "<Figure size 432x288 with 1 Axes>"
      ]
     },
     "metadata": {
      "needs_background": "light"
     },
     "output_type": "display_data"
    }
   ],
   "source": [
    "x = df2.groupby(['Gender','No-show']).mean()\n",
    "x[\"Age\"].unstack().plot(kind='bar')\n",
    "plt.legend([\"show up on time\",\"didn't show up on time\"]) #Clarify the features of the drawing\n",
    "plt.suptitle('Number of attendees and non-attendances vs. gender') #a title to paint it\n",
    "plt.ylabel('count of patients') #Add an address to the y axis"
   ]
  },
  {
   "cell_type": "markdown",
   "id": "e4ffa95b",
   "metadata": {
    "papermill": {
     "duration": 0.018005,
     "end_time": "2023-02-04T14:49:34.364206",
     "exception": false,
     "start_time": "2023-02-04T14:49:34.346201",
     "status": "completed"
    },
    "tags": []
   },
   "source": [
    "### We note that the attendance rate between the Males and Females is very similar, So it don't effect\n"
   ]
  },
  {
   "cell_type": "markdown",
   "id": "95a29046",
   "metadata": {
    "papermill": {
     "duration": 0.018126,
     "end_time": "2023-02-04T14:49:34.400710",
     "exception": false,
     "start_time": "2023-02-04T14:49:34.382584",
     "status": "completed"
    },
    "tags": []
   },
   "source": [
    "### Research Question 4 ( Does Neighbourhood affect the No-show ratio?)"
   ]
  },
  {
   "cell_type": "code",
   "execution_count": 26,
   "id": "87d58698",
   "metadata": {
    "execution": {
     "iopub.execute_input": "2023-02-04T14:49:34.439809Z",
     "iopub.status.busy": "2023-02-04T14:49:34.439135Z",
     "iopub.status.idle": "2023-02-04T14:49:34.459239Z",
     "shell.execute_reply": "2023-02-04T14:49:34.458388Z"
    },
    "papermill": {
     "duration": 0.041722,
     "end_time": "2023-02-04T14:49:34.461094",
     "exception": false,
     "start_time": "2023-02-04T14:49:34.419372",
     "status": "completed"
    },
    "tags": []
   },
   "outputs": [
    {
     "data": {
      "text/html": [
       "<div>\n",
       "<style scoped>\n",
       "    .dataframe tbody tr th:only-of-type {\n",
       "        vertical-align: middle;\n",
       "    }\n",
       "\n",
       "    .dataframe tbody tr th {\n",
       "        vertical-align: top;\n",
       "    }\n",
       "\n",
       "    .dataframe thead th {\n",
       "        text-align: right;\n",
       "    }\n",
       "</style>\n",
       "<table border=\"1\" class=\"dataframe\">\n",
       "  <thead>\n",
       "    <tr style=\"text-align: right;\">\n",
       "      <th></th>\n",
       "      <th>Neighbourhood</th>\n",
       "    </tr>\n",
       "  </thead>\n",
       "  <tbody>\n",
       "    <tr>\n",
       "      <th>count</th>\n",
       "      <td>99481</td>\n",
       "    </tr>\n",
       "    <tr>\n",
       "      <th>unique</th>\n",
       "      <td>81</td>\n",
       "    </tr>\n",
       "    <tr>\n",
       "      <th>top</th>\n",
       "      <td>JARDIM CAMBURI</td>\n",
       "    </tr>\n",
       "    <tr>\n",
       "      <th>freq</th>\n",
       "      <td>6521</td>\n",
       "    </tr>\n",
       "  </tbody>\n",
       "</table>\n",
       "</div>"
      ],
      "text/plain": [
       "         Neighbourhood\n",
       "count            99481\n",
       "unique              81\n",
       "top     JARDIM CAMBURI\n",
       "freq              6521"
      ]
     },
     "execution_count": 26,
     "metadata": {},
     "output_type": "execute_result"
    }
   ],
   "source": [
    "df2[['Neighbourhood']].describe(include=\"all\") # small things to know about Neighbourhood"
   ]
  },
  {
   "cell_type": "markdown",
   "id": "a4a3e86a",
   "metadata": {
    "papermill": {
     "duration": 0.01819,
     "end_time": "2023-02-04T14:49:34.497902",
     "exception": false,
     "start_time": "2023-02-04T14:49:34.479712",
     "status": "completed"
    },
    "tags": []
   },
   "source": [
    "##### As we see in the describe table \"JARDIM CAMBURI\" is has the most Reservation time"
   ]
  },
  {
   "cell_type": "code",
   "execution_count": 27,
   "id": "94b9e711",
   "metadata": {
    "execution": {
     "iopub.execute_input": "2023-02-04T14:49:34.536783Z",
     "iopub.status.busy": "2023-02-04T14:49:34.536403Z",
     "iopub.status.idle": "2023-02-04T14:49:35.393857Z",
     "shell.execute_reply": "2023-02-04T14:49:35.392694Z"
    },
    "papermill": {
     "duration": 0.880056,
     "end_time": "2023-02-04T14:49:35.396254",
     "exception": false,
     "start_time": "2023-02-04T14:49:34.516198",
     "status": "completed"
    },
    "tags": []
   },
   "outputs": [
    {
     "data": {
      "text/plain": [
       "<AxesSubplot:xlabel='Neighbourhood'>"
      ]
     },
     "execution_count": 27,
     "metadata": {},
     "output_type": "execute_result"
    },
    {
     "data": {
      "image/png": "[encoded data removed]",
      "text/plain": [
       "<Figure size 1440x720 with 1 Axes>"
      ]
     },
     "metadata": {
      "needs_background": "light"
     },
     "output_type": "display_data"
    }
   ],
   "source": [
    "\n",
    "df2.groupby(['Neighbourhood'])['Wait_Days'].mean().plot(kind='bar',figsize=(20,10),fontsize=10)"
   ]
  },
  {
   "cell_type": "markdown",
   "id": "1ddfbfbe",
   "metadata": {
    "papermill": {
     "duration": 0.019271,
     "end_time": "2023-02-04T14:49:35.435973",
     "exception": false,
     "start_time": "2023-02-04T14:49:35.416702",
     "status": "completed"
    },
    "tags": []
   },
   "source": [
    "##### And \"ILHAS OCEÂNICAS DE TRINDADE\" has the biggest waiting time you have to wait 28 in average "
   ]
  },
  {
   "cell_type": "code",
   "execution_count": 28,
   "id": "b318bfec",
   "metadata": {
    "execution": {
     "iopub.execute_input": "2023-02-04T14:49:35.476265Z",
     "iopub.status.busy": "2023-02-04T14:49:35.475810Z",
     "iopub.status.idle": "2023-02-04T14:49:35.489897Z",
     "shell.execute_reply": "2023-02-04T14:49:35.488950Z"
    },
    "papermill": {
     "duration": 0.036209,
     "end_time": "2023-02-04T14:49:35.491678",
     "exception": false,
     "start_time": "2023-02-04T14:49:35.455469",
     "status": "completed"
    },
    "tags": []
   },
   "outputs": [
    {
     "data": {
      "text/plain": [
       "2"
      ]
     },
     "execution_count": 28,
     "metadata": {},
     "output_type": "execute_result"
    }
   ],
   "source": [
    "df2[df2['Neighbourhood'] == 'ILHAS OCEÂNICAS DE TRINDADE'].shape[0]"
   ]
  },
  {
   "cell_type": "code",
   "execution_count": 29,
   "id": "dbd2a3b5",
   "metadata": {
    "execution": {
     "iopub.execute_input": "2023-02-04T14:49:35.533826Z",
     "iopub.status.busy": "2023-02-04T14:49:35.532674Z",
     "iopub.status.idle": "2023-02-04T14:49:36.530181Z",
     "shell.execute_reply": "2023-02-04T14:49:36.529053Z"
    },
    "papermill": {
     "duration": 1.021553,
     "end_time": "2023-02-04T14:49:36.533477",
     "exception": false,
     "start_time": "2023-02-04T14:49:35.511924",
     "status": "completed"
    },
    "tags": []
   },
   "outputs": [
    {
     "data": {
      "text/plain": [
       "<AxesSubplot:xlabel='Neighbourhood'>"
      ]
     },
     "execution_count": 29,
     "metadata": {},
     "output_type": "execute_result"
    },
    {
     "data": {
      "image/png": "[encoded data removed]",
      "text/plain": [
       "<Figure size 1440x720 with 1 Axes>"
      ]
     },
     "metadata": {
      "needs_background": "light"
     },
     "output_type": "display_data"
    }
   ],
   "source": [
    "df2.groupby(['Neighbourhood'])['Wait_Days'].sum().plot(kind='bar',figsize=(20,10),fontsize=10)"
   ]
  },
  {
   "cell_type": "markdown",
   "id": "e5fbcc49",
   "metadata": {
    "papermill": {
     "duration": 0.019753,
     "end_time": "2023-02-04T14:49:36.574421",
     "exception": false,
     "start_time": "2023-02-04T14:49:36.554668",
     "status": "completed"
    },
    "tags": []
   },
   "source": [
    "#### but as we see we have 2 only in ILHAS OCEÂNICAS DE TRINDADE so we can't take it series problem so we will check a average wait days in the most Neighbourhood freq \"JARDIM CAMBURI\""
   ]
  },
  {
   "cell_type": "code",
   "execution_count": 30,
   "id": "353a1168",
   "metadata": {
    "execution": {
     "iopub.execute_input": "2023-02-04T14:49:36.617180Z",
     "iopub.status.busy": "2023-02-04T14:49:36.616785Z",
     "iopub.status.idle": "2023-02-04T14:49:36.632395Z",
     "shell.execute_reply": "2023-02-04T14:49:36.631020Z"
    },
    "papermill": {
     "duration": 0.03968,
     "end_time": "2023-02-04T14:49:36.634331",
     "exception": false,
     "start_time": "2023-02-04T14:49:36.594651",
     "status": "completed"
    },
    "tags": []
   },
   "outputs": [
    {
     "data": {
      "text/plain": [
       "20.16393191228339"
      ]
     },
     "execution_count": 30,
     "metadata": {},
     "output_type": "execute_result"
    }
   ],
   "source": [
    "df2[df2['Neighbourhood'] == 'JARDIM CAMBURI']['Wait_Days'].mean() ### average waiting days in the most freq Neighbourhood"
   ]
  },
  {
   "cell_type": "markdown",
   "id": "706d9b23",
   "metadata": {
    "papermill": {
     "duration": 0.019744,
     "end_time": "2023-02-04T14:49:36.674535",
     "exception": false,
     "start_time": "2023-02-04T14:49:36.654791",
     "status": "completed"
    },
    "tags": []
   },
   "source": [
    "#### As we see in \"JARDIM CAMBURI\"  you have to wait 20 day in average which is to long "
   ]
  },
  {
   "cell_type": "markdown",
   "id": "debcc108",
   "metadata": {
    "papermill": {
     "duration": 0.019537,
     "end_time": "2023-02-04T14:49:36.714469",
     "exception": false,
     "start_time": "2023-02-04T14:49:36.694932",
     "status": "completed"
    },
    "tags": []
   },
   "source": [
    "## Research Question 5 (What is The effect of Hypertension in no-show?)"
   ]
  },
  {
   "cell_type": "code",
   "execution_count": 31,
   "id": "ab1db62b",
   "metadata": {
    "execution": {
     "iopub.execute_input": "2023-02-04T14:49:36.756524Z",
     "iopub.status.busy": "2023-02-04T14:49:36.756149Z",
     "iopub.status.idle": "2023-02-04T14:49:36.987722Z",
     "shell.execute_reply": "2023-02-04T14:49:36.986961Z"
    },
    "papermill": {
     "duration": 0.255307,
     "end_time": "2023-02-04T14:49:36.989678",
     "exception": false,
     "start_time": "2023-02-04T14:49:36.734371",
     "status": "completed"
    },
    "tags": []
   },
   "outputs": [
    {
     "data": {
      "image/png": "[encoded data removed]",
      "text/plain": [
       "<Figure size 216x216 with 1 Axes>"
      ]
     },
     "metadata": {},
     "output_type": "display_data"
    },
    {
     "data": {
      "image/png": "[encoded data removed]",
      "text/plain": [
       "<Figure size 432x288 with 1 Axes>"
      ]
     },
     "metadata": {
      "needs_background": "light"
     },
     "output_type": "display_data"
    }
   ],
   "source": [
    "count_Hypertension = df2.groupby(['Hypertension'])['No-show'].count()\n",
    "my_pie(count_Hypertension,['No', 'Yes'], title, (3,3)) #### My pie function\n",
    "plt.show()\n",
    "\n",
    "count_Hypertension = df2.groupby(['Hypertension', 'No-show']).mean()\n",
    "\n",
    "count_Hypertension[\"Age\"].unstack().plot(kind='bar', tick_label = ['s','d'])\n",
    "plt.legend([\"show up on time\",\"didn't show up on time\"]) #Clarify the features of the drawing\n",
    "plt.suptitle('Number of attendees and non-attendances vs. Have Hypertension or not') #a title to paint it\n",
    "plt.ylabel('count of patients') #Add an address to the y axis\n",
    "plt.show()"
   ]
  },
  {
   "cell_type": "markdown",
   "id": "35dcd0e1",
   "metadata": {
    "papermill": {
     "duration": 0.020523,
     "end_time": "2023-02-04T14:49:37.033083",
     "exception": false,
     "start_time": "2023-02-04T14:49:37.012560",
     "status": "completed"
    },
    "tags": []
   },
   "source": [
    "### From the first plot above we see patients without Hypertension have 79% and with Hypertension 21%\n",
    "### The second plot tells us that the ratio between the patients with Hypertension or not dont really effect the No-show"
   ]
  },
  {
   "cell_type": "markdown",
   "id": "dd795d85",
   "metadata": {
    "papermill": {
     "duration": 0.020315,
     "end_time": "2023-02-04T14:49:37.074027",
     "exception": false,
     "start_time": "2023-02-04T14:49:37.053712",
     "status": "completed"
    },
    "tags": []
   },
   "source": [
    "## Research Question 6 (What is The effect of Diabetes in no-show?)"
   ]
  },
  {
   "cell_type": "code",
   "execution_count": 32,
   "id": "d53ac338",
   "metadata": {
    "execution": {
     "iopub.execute_input": "2023-02-04T14:49:37.117916Z",
     "iopub.status.busy": "2023-02-04T14:49:37.117300Z",
     "iopub.status.idle": "2023-02-04T14:49:37.343493Z",
     "shell.execute_reply": "2023-02-04T14:49:37.342790Z"
    },
    "papermill": {
     "duration": 0.250347,
     "end_time": "2023-02-04T14:49:37.345395",
     "exception": false,
     "start_time": "2023-02-04T14:49:37.095048",
     "status": "completed"
    },
    "tags": []
   },
   "outputs": [
    {
     "data": {
      "image/png": "[encoded data removed]",
      "text/plain": [
       "<Figure size 216x216 with 1 Axes>"
      ]
     },
     "metadata": {},
     "output_type": "display_data"
    },
    {
     "data": {
      "image/png": "[encoded data removed]",
      "text/plain": [
       "<Figure size 432x288 with 1 Axes>"
      ]
     },
     "metadata": {
      "needs_background": "light"
     },
     "output_type": "display_data"
    }
   ],
   "source": [
    "count_diabets = df2.groupby(['Diabetes'])['No-show'].count()\n",
    "title = 'The ration between the pations with Diabetes and not'\n",
    "\n",
    "my_pie(count_diabets,['No', 'Yes'], title, (3,3))\n",
    "plt.show()\n",
    "\n",
    "count_diabets = df2.groupby(['Diabetes', 'No-show']).mean()\n",
    "\n",
    "count_diabets[\"Age\"].unstack().plot(kind='bar', tick_label = ['s','d'])\n",
    "plt.legend([\"show up on time\",\"didn't show up on time\"]) #Clarify the features of the drawing\n",
    "plt.suptitle('Number of attendees and non-attendances vs. Have Diabetes or not') #a title to paint it #a title to paint it\n",
    "plt.ylabel('count of patients') #Add an address to the y axis\n",
    "plt.show()"
   ]
  },
  {
   "cell_type": "markdown",
   "id": "fe8441b8",
   "metadata": {
    "papermill": {
     "duration": 0.021148,
     "end_time": "2023-02-04T14:49:37.390796",
     "exception": false,
     "start_time": "2023-02-04T14:49:37.369648",
     "status": "completed"
    },
    "tags": []
   },
   "source": [
    "### From the first plot above we see patients without Diabetes have 92% and with Hypertension 8% which is a good indicator about there is not alot of Diabetes patients in Brazil\n",
    "### The second plot tells us that the ratio between the patients with Hypertension or not dont really effect the No-show"
   ]
  },
  {
   "cell_type": "markdown",
   "id": "342afdee",
   "metadata": {
    "papermill": {
     "duration": 0.021472,
     "end_time": "2023-02-04T14:49:37.433754",
     "exception": false,
     "start_time": "2023-02-04T14:49:37.412282",
     "status": "completed"
    },
    "tags": []
   },
   "source": [
    "## Research Question 7 (What is The effect of Alcoholism in no-show?)"
   ]
  },
  {
   "cell_type": "code",
   "execution_count": 33,
   "id": "2f0f22ef",
   "metadata": {
    "execution": {
     "iopub.execute_input": "2023-02-04T14:49:37.479269Z",
     "iopub.status.busy": "2023-02-04T14:49:37.478680Z",
     "iopub.status.idle": "2023-02-04T14:49:37.702071Z",
     "shell.execute_reply": "2023-02-04T14:49:37.701369Z"
    },
    "papermill": {
     "duration": 0.248363,
     "end_time": "2023-02-04T14:49:37.703946",
     "exception": false,
     "start_time": "2023-02-04T14:49:37.455583",
     "status": "completed"
    },
    "tags": []
   },
   "outputs": [
    {
     "data": {
      "image/png": "[encoded data removed]",
      "text/plain": [
       "<Figure size 216x216 with 1 Axes>"
      ]
     },
     "metadata": {},
     "output_type": "display_data"
    },
    {
     "data": {
      "image/png": "[encoded data removed]",
      "text/plain": [
       "<Figure size 432x288 with 1 Axes>"
      ]
     },
     "metadata": {
      "needs_background": "light"
     },
     "output_type": "display_data"
    }
   ],
   "source": [
    "count_Alcoholism = df2.groupby(['Alcoholism'])['No-show'].count()\n",
    "title='The ration between the pations with Alcoholism and not'\n",
    "my_pie(count_Alcoholism,['No', 'Yes'], title, (3,3))\n",
    "plt.show()\n",
    "\n",
    "count_Alcoholism = df2.groupby(['Alcoholism', 'No-show']).mean()\n",
    "\n",
    "count_Alcoholism[\"Age\"].unstack().plot(kind='bar', tick_label = ['s','d'])\n",
    "plt.legend([\"show up on time\",\"didn't show up on time\"]) #Clarify the features of the drawing\n",
    "plt.suptitle('Number of attendees and non-attendances vs. Have Alcoholism or not') #a title to paint it\n",
    "plt.ylabel('count of patients') #Add an address to the y axis\n",
    "plt.show()"
   ]
  },
  {
   "cell_type": "markdown",
   "id": "43691dac",
   "metadata": {
    "papermill": {
     "duration": 0.021495,
     "end_time": "2023-02-04T14:49:37.750902",
     "exception": false,
     "start_time": "2023-02-04T14:49:37.729407",
     "status": "completed"
    },
    "tags": []
   },
   "source": [
    "### From the first plot above we see patients without Alcoholism have 97% and with Hypertension 3% which is a good indicator about there is not alot of Alcoholism patients in Brazil\n",
    "### The second plot tells us that the ratio between the patients with Alcoholism or not dont really effect the No-show"
   ]
  },
  {
   "cell_type": "markdown",
   "id": "688a5ec0",
   "metadata": {
    "papermill": {
     "duration": 0.021937,
     "end_time": "2023-02-04T14:49:37.794756",
     "exception": false,
     "start_time": "2023-02-04T14:49:37.772819",
     "status": "completed"
    },
    "tags": []
   },
   "source": [
    "## Research Question 8 (What is The effect of Handicap in no-show?)"
   ]
  },
  {
   "cell_type": "code",
   "execution_count": 34,
   "id": "3a8cc318",
   "metadata": {
    "execution": {
     "iopub.execute_input": "2023-02-04T14:49:37.840505Z",
     "iopub.status.busy": "2023-02-04T14:49:37.839774Z",
     "iopub.status.idle": "2023-02-04T14:49:37.973492Z",
     "shell.execute_reply": "2023-02-04T14:49:37.972815Z"
    },
    "papermill": {
     "duration": 0.158861,
     "end_time": "2023-02-04T14:49:37.975425",
     "exception": false,
     "start_time": "2023-02-04T14:49:37.816564",
     "status": "completed"
    },
    "tags": []
   },
   "outputs": [
    {
     "data": {
      "image/png": "[encoded data removed]",
      "text/plain": [
       "<Figure size 432x288 with 1 Axes>"
      ]
     },
     "metadata": {
      "needs_background": "light"
     },
     "output_type": "display_data"
    }
   ],
   "source": [
    "\n",
    "count_Handicap = df2.groupby(['Handicap'])['No-show'].mean()\n",
    "\n",
    "count_Handicap.plot(kind='bar', alpha=.7);\n",
    "plt.title('Appointment No-show rate by handicap');\n",
    "plt.ylabel('Show rate', fontsize=18)\n",
    "plt.xlabel('Handicap level', fontsize=18);"
   ]
  },
  {
   "cell_type": "markdown",
   "id": "4684ea04",
   "metadata": {
    "papermill": {
     "duration": 0.022243,
     "end_time": "2023-02-04T14:49:38.022218",
     "exception": false,
     "start_time": "2023-02-04T14:49:37.999975",
     "status": "completed"
    },
    "tags": []
   },
   "source": [
    "## Research Question 9 (Is SMS Has A Remarkable Contribution In Attendance?)"
   ]
  },
  {
   "cell_type": "code",
   "execution_count": 35,
   "id": "40581977",
   "metadata": {
    "execution": {
     "iopub.execute_input": "2023-02-04T14:49:38.069479Z",
     "iopub.status.busy": "2023-02-04T14:49:38.068895Z",
     "iopub.status.idle": "2023-02-04T14:49:38.189168Z",
     "shell.execute_reply": "2023-02-04T14:49:38.188423Z"
    },
    "papermill": {
     "duration": 0.146217,
     "end_time": "2023-02-04T14:49:38.191030",
     "exception": false,
     "start_time": "2023-02-04T14:49:38.044813",
     "status": "completed"
    },
    "tags": []
   },
   "outputs": [
    {
     "data": {
      "text/plain": [
       "<AxesSubplot:xlabel='SMS_received,No-show'>"
      ]
     },
     "execution_count": 35,
     "metadata": {},
     "output_type": "execute_result"
    },
    {
     "data": {
      "image/png": "[encoded data removed]",
      "text/plain": [
       "<Figure size 432x288 with 1 Axes>"
      ]
     },
     "metadata": {
      "needs_background": "light"
     },
     "output_type": "display_data"
    }
   ],
   "source": [
    "df2.groupby(['SMS_received','No-show'])['Age'].count().plot(kind='bar')"
   ]
  },
  {
   "cell_type": "code",
   "execution_count": 36,
   "id": "1b386eb8",
   "metadata": {
    "execution": {
     "iopub.execute_input": "2023-02-04T14:49:38.243402Z",
     "iopub.status.busy": "2023-02-04T14:49:38.242821Z",
     "iopub.status.idle": "2023-02-04T14:49:38.252788Z",
     "shell.execute_reply": "2023-02-04T14:49:38.251466Z"
    },
    "papermill": {
     "duration": 0.035589,
     "end_time": "2023-02-04T14:49:38.254520",
     "exception": false,
     "start_time": "2023-02-04T14:49:38.218931",
     "status": "completed"
    },
    "tags": []
   },
   "outputs": [
    {
     "data": {
      "text/plain": [
       "0"
      ]
     },
     "execution_count": 36,
     "metadata": {},
     "output_type": "execute_result"
    }
   ],
   "source": [
    "df2.query('Wait_Days== 0 & SMS_received ==1')['SMS_received'].count()"
   ]
  },
  {
   "cell_type": "markdown",
   "id": "8a775f88",
   "metadata": {
    "papermill": {
     "duration": 0.021735,
     "end_time": "2023-02-04T14:49:38.298198",
     "exception": false,
     "start_time": "2023-02-04T14:49:38.276463",
     "status": "completed"
    },
    "tags": []
   },
   "source": [
    "##### Since Recieving Sms AS A Reminder If An Appointment Is In The Same Day Of Scheduleing Won't Be Effective (Besides Maybe Reservation Occurs Immediate)\n",
    "##### Analysis Will Be Exclude Any Appointment Happened In The Same Day Of Scheduleing (in Order Not TO Effect The Investigation And Analysis)\n",
    "#### Investigating Data Without Appointment Happened In The Same Schedueling Day"
   ]
  },
  {
   "cell_type": "code",
   "execution_count": 37,
   "id": "a31033c0",
   "metadata": {
    "execution": {
     "iopub.execute_input": "2023-02-04T14:49:38.345182Z",
     "iopub.status.busy": "2023-02-04T14:49:38.344561Z",
     "iopub.status.idle": "2023-02-04T14:49:38.472431Z",
     "shell.execute_reply": "2023-02-04T14:49:38.471661Z"
    },
    "papermill": {
     "duration": 0.153692,
     "end_time": "2023-02-04T14:49:38.474423",
     "exception": false,
     "start_time": "2023-02-04T14:49:38.320731",
     "status": "completed"
    },
    "tags": []
   },
   "outputs": [
    {
     "data": {
      "text/plain": [
       "<AxesSubplot:xlabel='SMS_received,No-show'>"
      ]
     },
     "execution_count": 37,
     "metadata": {},
     "output_type": "execute_result"
    },
    {
     "data": {
      "image/png": "[encoded data removed]",
      "text/plain": [
       "<Figure size 432x288 with 1 Axes>"
      ]
     },
     "metadata": {
      "needs_background": "light"
     },
     "output_type": "display_data"
    }
   ],
   "source": [
    "df2.query('Wait_Days>0').groupby(['SMS_received','No-show'])['Age'].count().plot(kind='bar')"
   ]
  },
  {
   "cell_type": "code",
   "execution_count": 38,
   "id": "d6262bec",
   "metadata": {
    "execution": {
     "iopub.execute_input": "2023-02-04T14:49:38.527377Z",
     "iopub.status.busy": "2023-02-04T14:49:38.526788Z",
     "iopub.status.idle": "2023-02-04T14:49:38.571866Z",
     "shell.execute_reply": "2023-02-04T14:49:38.570727Z"
    },
    "papermill": {
     "duration": 0.071298,
     "end_time": "2023-02-04T14:49:38.573846",
     "exception": false,
     "start_time": "2023-02-04T14:49:38.502548",
     "status": "completed"
    },
    "tags": []
   },
   "outputs": [
    {
     "data": {
      "text/html": [
       "<div>\n",
       "<style scoped>\n",
       "    .dataframe tbody tr th:only-of-type {\n",
       "        vertical-align: middle;\n",
       "    }\n",
       "\n",
       "    .dataframe tbody tr th {\n",
       "        vertical-align: top;\n",
       "    }\n",
       "\n",
       "    .dataframe thead th {\n",
       "        text-align: right;\n",
       "    }\n",
       "</style>\n",
       "<table border=\"1\" class=\"dataframe\">\n",
       "  <thead>\n",
       "    <tr style=\"text-align: right;\">\n",
       "      <th></th>\n",
       "      <th></th>\n",
       "      <th>count</th>\n",
       "      <th>mean</th>\n",
       "      <th>std</th>\n",
       "      <th>min</th>\n",
       "      <th>25%</th>\n",
       "      <th>50%</th>\n",
       "      <th>75%</th>\n",
       "      <th>max</th>\n",
       "    </tr>\n",
       "    <tr>\n",
       "      <th>SMS_received</th>\n",
       "      <th>No-show</th>\n",
       "      <th></th>\n",
       "      <th></th>\n",
       "      <th></th>\n",
       "      <th></th>\n",
       "      <th></th>\n",
       "      <th></th>\n",
       "      <th></th>\n",
       "      <th></th>\n",
       "    </tr>\n",
       "  </thead>\n",
       "  <tbody>\n",
       "    <tr>\n",
       "      <th rowspan=\"2\" valign=\"top\">0</th>\n",
       "      <th>0</th>\n",
       "      <td>23742.0</td>\n",
       "      <td>42.543804</td>\n",
       "      <td>22.726526</td>\n",
       "      <td>1.0</td>\n",
       "      <td>24.0</td>\n",
       "      <td>44.0</td>\n",
       "      <td>60.0</td>\n",
       "      <td>102.0</td>\n",
       "    </tr>\n",
       "    <tr>\n",
       "      <th>1</th>\n",
       "      <td>9885.0</td>\n",
       "      <td>36.938189</td>\n",
       "      <td>22.047829</td>\n",
       "      <td>1.0</td>\n",
       "      <td>18.0</td>\n",
       "      <td>36.0</td>\n",
       "      <td>54.0</td>\n",
       "      <td>115.0</td>\n",
       "    </tr>\n",
       "    <tr>\n",
       "      <th rowspan=\"2\" valign=\"top\">1</th>\n",
       "      <th>0</th>\n",
       "      <td>24636.0</td>\n",
       "      <td>39.984494</td>\n",
       "      <td>21.987762</td>\n",
       "      <td>1.0</td>\n",
       "      <td>22.0</td>\n",
       "      <td>41.0</td>\n",
       "      <td>57.0</td>\n",
       "      <td>115.0</td>\n",
       "    </tr>\n",
       "    <tr>\n",
       "      <th>1</th>\n",
       "      <td>9497.0</td>\n",
       "      <td>34.741603</td>\n",
       "      <td>20.677402</td>\n",
       "      <td>1.0</td>\n",
       "      <td>19.0</td>\n",
       "      <td>33.0</td>\n",
       "      <td>50.0</td>\n",
       "      <td>95.0</td>\n",
       "    </tr>\n",
       "  </tbody>\n",
       "</table>\n",
       "</div>"
      ],
      "text/plain": [
       "                        count       mean        std  min   25%   50%   75%  \\\n",
       "SMS_received No-show                                                         \n",
       "0            0        23742.0  42.543804  22.726526  1.0  24.0  44.0  60.0   \n",
       "             1         9885.0  36.938189  22.047829  1.0  18.0  36.0  54.0   \n",
       "1            0        24636.0  39.984494  21.987762  1.0  22.0  41.0  57.0   \n",
       "             1         9497.0  34.741603  20.677402  1.0  19.0  33.0  50.0   \n",
       "\n",
       "                        max  \n",
       "SMS_received No-show         \n",
       "0            0        102.0  \n",
       "             1        115.0  \n",
       "1            0        115.0  \n",
       "             1         95.0  "
      ]
     },
     "execution_count": 38,
     "metadata": {},
     "output_type": "execute_result"
    }
   ],
   "source": [
    "df2.query('Wait_Days>0').groupby(['SMS_received','No-show'])['Age'].describe()"
   ]
  },
  {
   "cell_type": "markdown",
   "id": "26afe53f",
   "metadata": {
    "papermill": {
     "duration": 0.022502,
     "end_time": "2023-02-04T14:49:38.619070",
     "exception": false,
     "start_time": "2023-02-04T14:49:38.596568",
     "status": "completed"
    },
    "tags": []
   },
   "source": [
    "##### From The First Sight To The Graph Sms Has A small Effect On Attendence When the pationts receves SMS the average no-show decreasse by 6%"
   ]
  },
  {
   "cell_type": "code",
   "execution_count": 39,
   "id": "1f3abaef",
   "metadata": {
    "execution": {
     "iopub.execute_input": "2023-02-04T14:49:38.666046Z",
     "iopub.status.busy": "2023-02-04T14:49:38.665736Z",
     "iopub.status.idle": "2023-02-04T14:49:38.679431Z",
     "shell.execute_reply": "2023-02-04T14:49:38.678318Z"
    },
    "papermill": {
     "duration": 0.040003,
     "end_time": "2023-02-04T14:49:38.681503",
     "exception": false,
     "start_time": "2023-02-04T14:49:38.641500",
     "status": "completed"
    },
    "tags": []
   },
   "outputs": [
    {
     "data": {
      "text/html": [
       "<div>\n",
       "<style scoped>\n",
       "    .dataframe tbody tr th:only-of-type {\n",
       "        vertical-align: middle;\n",
       "    }\n",
       "\n",
       "    .dataframe tbody tr th {\n",
       "        vertical-align: top;\n",
       "    }\n",
       "\n",
       "    .dataframe thead th {\n",
       "        text-align: right;\n",
       "    }\n",
       "</style>\n",
       "<table border=\"1\" class=\"dataframe\">\n",
       "  <thead>\n",
       "    <tr style=\"text-align: right;\">\n",
       "      <th></th>\n",
       "      <th>Gender</th>\n",
       "      <th>Scheduled_Day</th>\n",
       "      <th>Appointment_Day</th>\n",
       "      <th>Wait_Days</th>\n",
       "      <th>Age</th>\n",
       "      <th>Neighbourhood</th>\n",
       "      <th>Scholarship</th>\n",
       "      <th>Hypertension</th>\n",
       "      <th>Diabetes</th>\n",
       "      <th>Alcoholism</th>\n",
       "      <th>Handicap</th>\n",
       "      <th>SMS_received</th>\n",
       "      <th>No-show</th>\n",
       "    </tr>\n",
       "  </thead>\n",
       "  <tbody>\n",
       "    <tr>\n",
       "      <th>0</th>\n",
       "      <td>F</td>\n",
       "      <td>2016-04-29</td>\n",
       "      <td>2016-04-29</td>\n",
       "      <td>0</td>\n",
       "      <td>62</td>\n",
       "      <td>JARDIM DA PENHA</td>\n",
       "      <td>0</td>\n",
       "      <td>1</td>\n",
       "      <td>0</td>\n",
       "      <td>0</td>\n",
       "      <td>0</td>\n",
       "      <td>0</td>\n",
       "      <td>0</td>\n",
       "    </tr>\n",
       "    <tr>\n",
       "      <th>1</th>\n",
       "      <td>M</td>\n",
       "      <td>2016-04-29</td>\n",
       "      <td>2016-04-29</td>\n",
       "      <td>0</td>\n",
       "      <td>56</td>\n",
       "      <td>JARDIM DA PENHA</td>\n",
       "      <td>0</td>\n",
       "      <td>0</td>\n",
       "      <td>0</td>\n",
       "      <td>0</td>\n",
       "      <td>0</td>\n",
       "      <td>0</td>\n",
       "      <td>0</td>\n",
       "    </tr>\n",
       "  </tbody>\n",
       "</table>\n",
       "</div>"
      ],
      "text/plain": [
       "  Gender Scheduled_Day Appointment_Day  Wait_Days  Age    Neighbourhood  \\\n",
       "0      F    2016-04-29      2016-04-29          0   62  JARDIM DA PENHA   \n",
       "1      M    2016-04-29      2016-04-29          0   56  JARDIM DA PENHA   \n",
       "\n",
       "   Scholarship  Hypertension  Diabetes  Alcoholism  Handicap  SMS_received  \\\n",
       "0            0             1         0           0         0             0   \n",
       "1            0             0         0           0         0             0   \n",
       "\n",
       "   No-show  \n",
       "0        0  \n",
       "1        0  "
      ]
     },
     "execution_count": 39,
     "metadata": {},
     "output_type": "execute_result"
    }
   ],
   "source": [
    "df2.head(2)"
   ]
  },
  {
   "cell_type": "code",
   "execution_count": null,
   "id": "285291e4",
   "metadata": {
    "papermill": {
     "duration": 0.023072,
     "end_time": "2023-02-04T14:49:38.728115",
     "exception": false,
     "start_time": "2023-02-04T14:49:38.705043",
     "status": "completed"
    },
    "tags": []
   },
   "outputs": [],
   "source": []
  },
  {
   "cell_type": "markdown",
   "id": "ec4c1dc7",
   "metadata": {
    "papermill": {
     "duration": 0.023038,
     "end_time": "2023-02-04T14:49:38.774402",
     "exception": false,
     "start_time": "2023-02-04T14:49:38.751364",
     "status": "completed"
    },
    "tags": []
   },
   "source": [
    "<a id='conclusions'></a>\n",
    "## Conclusions\n",
    ">1- The number of Show = 88208, And the number of No-show = 22319<br>\n",
    "    The plot show us that every 5 appointment there is 1 no-show so that is not okay\n",
    "\n",
    ">2- when the waiting days is 1 week or less we have no-show (13.5%) but when the waiting days more than 1 wekk the no-show is 32%<br>\n",
    "So it is clear that the greater the number of waiting days, the greater the number of No-Show\n",
    "\n",
    ">3- Older patients are more committed to their appointments scheduled than younger ones.<br>\n",
    "And youths have most no-show average, Perhaps because the seniors and infints have someone to take care of them, and perhaps the largest percentage of young people is because they are more neglected\n",
    "\n",
    ">4- We note that the attendance rate between the Males and Females is very similar, Gender really has no effect on showing or not since the percentage of not showing among them are almost the same\n",
    "\n",
    ">5- Neighbourhood \"JARDIM CAMBURI\" is has the most Reservation time<br>\n",
    "    And \"ILHAS OCEÂNICAS DE TRINDADE\" has the biggest waiting time you have to wait 28 in average<br>\n",
    "    we have 2 records only in ILHAS OCEÂNICAS DE TRINDADE so we can't take it series problem so we will check a average wait days in the most Neighbourhood freq \"JARDIM CAMBURI\"<br>\n",
    "    in \"JARDIM CAMBURI\" you have to wait 20 day in average which is to long which is so long if you decrese it we will have a better servese and decrese No-show average<br>\n",
    "    \n",
    ">6- patients without Hypertension are 79% and with Hypertension 21%\n",
    "    the ratio between the patients with Hypertension or not dont really effect the No-show\n",
    "    \n",
    ">7- patients without Diabetes have 92% and with Hypertension 8% which is a good indicator about there is not alot of Diabetes patients in Brazil<br>\n",
    "The second plot tells us that the ratio between the patients with Hypertension or not dont really effect the No-show\n",
    "\n",
    ">8- From the first plot above we see patients without Alcoholism have 97% and with Hypertension 3% which is a good indicator about there is not alot of Alcoholism patients in Brazil<br>\n",
    "The second plot tells us that the ratio between the patients with Alcoholism or not dont really effect the No-show\n",
    "\n",
    ">9- Since Recieving Sms AS A Reminder If An Appointment Is In The Same Day Of Scheduleing Won't Be Effective (Besides Maybe Reservation Occurs Immediate)<br>\n",
    "    Sms Has A small Effect On Attendence When the pationts receves SMS the average no-show decreasse by 6%\n"
   ]
  },
  {
   "cell_type": "markdown",
   "id": "e52f0ac0",
   "metadata": {
    "papermill": {
     "duration": 0.022562,
     "end_time": "2023-02-04T14:49:38.819839",
     "exception": false,
     "start_time": "2023-02-04T14:49:38.797277",
     "status": "completed"
    },
    "tags": []
   },
   "source": [
    "<a id='Limitation'></a>\n",
    "## Limitation\n",
    ">1- No show column values is No for attended and yes for didnt attend and it was confusing\n",
    "\n",
    ">2- Age column has -one row with value(-1 years0 which isn't logical and 5 more rows with value (115 years ) wich is outliers\n",
    "\n",
    ">3- Appointment_day column has date without hours, minutes, and seconds\n",
    "\n",
    ">4- Some column had a wrong name "
   ]
  }
 ],
 "metadata": {
  "kernelspec": {
   "display_name": "Python 3",
   "language": "python",
   "name": "python3"
  },
  "language_info": {
   "codemirror_mode": {
    "name": "ipython",
    "version": 3
   },
   "file_extension": ".py",
   "mimetype": "text/x-python",
   "name": "python",
   "nbconvert_exporter": "python",
   "pygments_lexer": "ipython3",
   "version": "3.7.12"
  },
  "papermill": {
   "default_parameters": {},
   "duration": 17.000676,
   "end_time": "2023-02-04T14:49:39.562750",
   "environment_variables": {},
   "exception": null,
   "input_path": "__notebook__.ipynb",
   "output_path": "__notebook__.ipynb",
   "parameters": {},
   "start_time": "2023-02-04T14:49:22.562074",
   "version": "2.3.4"
  }
 },
 "nbformat": 4,
 "nbformat_minor": 5
}
